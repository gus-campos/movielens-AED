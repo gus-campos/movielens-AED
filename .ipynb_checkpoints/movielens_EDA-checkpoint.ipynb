{
 "cells": [
  {
   "cell_type": "markdown",
   "id": "b7cca992-4d60-49cd-8fd5-de77b50db6f5",
   "metadata": {},
   "source": [
    "# Avaliações de Filmes do MovieLens"
   ]
  },
  {
   "cell_type": "code",
   "execution_count": 1,
   "id": "97e01bd6-8a3b-4a11-aa5e-77b4f203eb9f",
   "metadata": {
    "tags": []
   },
   "outputs": [],
   "source": [
    "# Importando bibliotecas\n",
    "import pandas as pd\n",
    "import seaborn as sns"
   ]
  },
  {
   "cell_type": "code",
   "execution_count": 2,
   "id": "ceef864c-7664-432b-93f0-67d84bee5306",
   "metadata": {},
   "outputs": [],
   "source": [
    "data_root = \"Dados/ml-latest/\""
   ]
  },
  {
   "cell_type": "markdown",
   "id": "cc642d8d-212b-4e70-8542-ebe05e556988",
   "metadata": {},
   "source": [
    "## Formato dos dados"
   ]
  },
  {
   "cell_type": "code",
   "execution_count": 3,
   "id": "9c91a07c-7605-4822-8106-72e7b5b9e9aa",
   "metadata": {
    "jupyter": {
     "source_hidden": true
    },
    "tags": []
   },
   "outputs": [
    {
     "data": {
      "text/html": [
       "<div>\n",
       "<style scoped>\n",
       "    .dataframe tbody tr th:only-of-type {\n",
       "        vertical-align: middle;\n",
       "    }\n",
       "\n",
       "    .dataframe tbody tr th {\n",
       "        vertical-align: top;\n",
       "    }\n",
       "\n",
       "    .dataframe thead th {\n",
       "        text-align: right;\n",
       "    }\n",
       "</style>\n",
       "<table border=\"1\" class=\"dataframe\">\n",
       "  <thead>\n",
       "    <tr style=\"text-align: right;\">\n",
       "      <th></th>\n",
       "      <th>title</th>\n",
       "      <th>genres</th>\n",
       "      <th>year</th>\n",
       "    </tr>\n",
       "    <tr>\n",
       "      <th>movieId</th>\n",
       "      <th></th>\n",
       "      <th></th>\n",
       "      <th></th>\n",
       "    </tr>\n",
       "  </thead>\n",
       "  <tbody>\n",
       "    <tr>\n",
       "      <th>1</th>\n",
       "      <td>Toy Story</td>\n",
       "      <td>Adventure|Animation|Children|Comedy|Fantasy</td>\n",
       "      <td>1995</td>\n",
       "    </tr>\n",
       "    <tr>\n",
       "      <th>2</th>\n",
       "      <td>Jumanji</td>\n",
       "      <td>Adventure|Children|Fantasy</td>\n",
       "      <td>1995</td>\n",
       "    </tr>\n",
       "    <tr>\n",
       "      <th>3</th>\n",
       "      <td>Grumpier Old Men</td>\n",
       "      <td>Comedy|Romance</td>\n",
       "      <td>1995</td>\n",
       "    </tr>\n",
       "    <tr>\n",
       "      <th>4</th>\n",
       "      <td>Waiting to Exhale</td>\n",
       "      <td>Comedy|Drama|Romance</td>\n",
       "      <td>1995</td>\n",
       "    </tr>\n",
       "    <tr>\n",
       "      <th>5</th>\n",
       "      <td>Father of the Bride Part II</td>\n",
       "      <td>Comedy</td>\n",
       "      <td>1995</td>\n",
       "    </tr>\n",
       "    <tr>\n",
       "      <th>...</th>\n",
       "      <td>...</td>\n",
       "      <td>...</td>\n",
       "      <td>...</td>\n",
       "    </tr>\n",
       "    <tr>\n",
       "      <th>288967</th>\n",
       "      <td>State of Siege: Temple Attack</td>\n",
       "      <td>Action|Drama</td>\n",
       "      <td>2021</td>\n",
       "    </tr>\n",
       "    <tr>\n",
       "      <th>288971</th>\n",
       "      <td>Ouija Japan</td>\n",
       "      <td>Action|Horror</td>\n",
       "      <td>2021</td>\n",
       "    </tr>\n",
       "    <tr>\n",
       "      <th>288975</th>\n",
       "      <td>The Men Who Made the Movies: Howard Hawks</td>\n",
       "      <td>Documentary</td>\n",
       "      <td>1973</td>\n",
       "    </tr>\n",
       "    <tr>\n",
       "      <th>288977</th>\n",
       "      <td>Skinford: Death Sentence</td>\n",
       "      <td>Crime|Thriller</td>\n",
       "      <td>2023</td>\n",
       "    </tr>\n",
       "    <tr>\n",
       "      <th>288983</th>\n",
       "      <td>UNZIPPED: An Autopsy of American Inequality</td>\n",
       "      <td>Documentary</td>\n",
       "      <td>2021</td>\n",
       "    </tr>\n",
       "  </tbody>\n",
       "</table>\n",
       "<p>85917 rows × 3 columns</p>\n",
       "</div>"
      ],
      "text/plain": [
       "                                                title  \\\n",
       "movieId                                                 \n",
       "1                                          Toy Story    \n",
       "2                                            Jumanji    \n",
       "3                                   Grumpier Old Men    \n",
       "4                                  Waiting to Exhale    \n",
       "5                        Father of the Bride Part II    \n",
       "...                                               ...   \n",
       "288967                 State of Siege: Temple Attack    \n",
       "288971                                   Ouija Japan    \n",
       "288975     The Men Who Made the Movies: Howard Hawks    \n",
       "288977                      Skinford: Death Sentence    \n",
       "288983   UNZIPPED: An Autopsy of American Inequality    \n",
       "\n",
       "                                              genres  year  \n",
       "movieId                                                     \n",
       "1        Adventure|Animation|Children|Comedy|Fantasy  1995  \n",
       "2                         Adventure|Children|Fantasy  1995  \n",
       "3                                     Comedy|Romance  1995  \n",
       "4                               Comedy|Drama|Romance  1995  \n",
       "5                                             Comedy  1995  \n",
       "...                                              ...   ...  \n",
       "288967                                  Action|Drama  2021  \n",
       "288971                                 Action|Horror  2021  \n",
       "288975                                   Documentary  1973  \n",
       "288977                                Crime|Thriller  2023  \n",
       "288983                                   Documentary  2021  \n",
       "\n",
       "[85917 rows x 3 columns]"
      ]
     },
     "execution_count": 3,
     "metadata": {},
     "output_type": "execute_result"
    }
   ],
   "source": [
    "# Relação entre id do filme e seu título\n",
    "movies = pd.read_csv(data_root + \"movies.csv\")\n",
    "\n",
    "# Conv para string\n",
    "movies['title'] = movies['title'].astype('string')\n",
    "\n",
    "# Removendo espaços nas extremidades\n",
    "movies['title'] = movies['title'].str.strip()\n",
    "\n",
    "# Função para buscar padrão de ano\n",
    "import re\n",
    "f = lambda title : True if (re.findall(r\"\\([0-9]{4}\\)$\", title)) else False\n",
    "\n",
    "# Separando filmes que têm ano no título\n",
    "selec = movies[\"title\"].map(f)\n",
    "movies = movies[selec]\n",
    "\n",
    "# Separando conteúdo em coluna título e ano\n",
    "movies[\"year\"] = movies[\"title\"].map(lambda title : title[-5:-1]).astype(int)\n",
    "movies[\"title\"] = movies[\"title\"].map(lambda title : title[:-6])\n",
    "\n",
    "# Mudando index\n",
    "movies = movies.set_index(\"movieId\")\n",
    "\n",
    "# Exibindo\n",
    "movies"
   ]
  },
  {
   "cell_type": "code",
   "execution_count": 4,
   "id": "565eec56",
   "metadata": {
    "jupyter": {
     "source_hidden": true
    },
    "tags": []
   },
   "outputs": [
    {
     "data": {
      "text/html": [
       "<div>\n",
       "<style scoped>\n",
       "    .dataframe tbody tr th:only-of-type {\n",
       "        vertical-align: middle;\n",
       "    }\n",
       "\n",
       "    .dataframe tbody tr th {\n",
       "        vertical-align: top;\n",
       "    }\n",
       "\n",
       "    .dataframe thead th {\n",
       "        text-align: right;\n",
       "    }\n",
       "</style>\n",
       "<table border=\"1\" class=\"dataframe\">\n",
       "  <thead>\n",
       "    <tr style=\"text-align: right;\">\n",
       "      <th></th>\n",
       "      <th>user</th>\n",
       "      <th>movieId</th>\n",
       "      <th>rating</th>\n",
       "      <th>time</th>\n",
       "    </tr>\n",
       "  </thead>\n",
       "  <tbody>\n",
       "    <tr>\n",
       "      <th>0</th>\n",
       "      <td>1</td>\n",
       "      <td>1</td>\n",
       "      <td>4.0</td>\n",
       "      <td>1225734739</td>\n",
       "    </tr>\n",
       "    <tr>\n",
       "      <th>1</th>\n",
       "      <td>1</td>\n",
       "      <td>110</td>\n",
       "      <td>4.0</td>\n",
       "      <td>1225865086</td>\n",
       "    </tr>\n",
       "    <tr>\n",
       "      <th>2</th>\n",
       "      <td>1</td>\n",
       "      <td>158</td>\n",
       "      <td>4.0</td>\n",
       "      <td>1225733503</td>\n",
       "    </tr>\n",
       "    <tr>\n",
       "      <th>3</th>\n",
       "      <td>1</td>\n",
       "      <td>260</td>\n",
       "      <td>4.5</td>\n",
       "      <td>1225735204</td>\n",
       "    </tr>\n",
       "    <tr>\n",
       "      <th>4</th>\n",
       "      <td>1</td>\n",
       "      <td>356</td>\n",
       "      <td>5.0</td>\n",
       "      <td>1225735119</td>\n",
       "    </tr>\n",
       "    <tr>\n",
       "      <th>...</th>\n",
       "      <td>...</td>\n",
       "      <td>...</td>\n",
       "      <td>...</td>\n",
       "      <td>...</td>\n",
       "    </tr>\n",
       "    <tr>\n",
       "      <th>33832157</th>\n",
       "      <td>330975</td>\n",
       "      <td>8340</td>\n",
       "      <td>2.0</td>\n",
       "      <td>1091583256</td>\n",
       "    </tr>\n",
       "    <tr>\n",
       "      <th>33832158</th>\n",
       "      <td>330975</td>\n",
       "      <td>8493</td>\n",
       "      <td>2.5</td>\n",
       "      <td>1091585709</td>\n",
       "    </tr>\n",
       "    <tr>\n",
       "      <th>33832159</th>\n",
       "      <td>330975</td>\n",
       "      <td>8622</td>\n",
       "      <td>4.0</td>\n",
       "      <td>1091581777</td>\n",
       "    </tr>\n",
       "    <tr>\n",
       "      <th>33832160</th>\n",
       "      <td>330975</td>\n",
       "      <td>8665</td>\n",
       "      <td>3.0</td>\n",
       "      <td>1091581765</td>\n",
       "    </tr>\n",
       "    <tr>\n",
       "      <th>33832161</th>\n",
       "      <td>330975</td>\n",
       "      <td>8783</td>\n",
       "      <td>2.5</td>\n",
       "      <td>1091581799</td>\n",
       "    </tr>\n",
       "  </tbody>\n",
       "</table>\n",
       "<p>33832162 rows × 4 columns</p>\n",
       "</div>"
      ],
      "text/plain": [
       "            user  movieId  rating        time\n",
       "0              1        1     4.0  1225734739\n",
       "1              1      110     4.0  1225865086\n",
       "2              1      158     4.0  1225733503\n",
       "3              1      260     4.5  1225735204\n",
       "4              1      356     5.0  1225735119\n",
       "...          ...      ...     ...         ...\n",
       "33832157  330975     8340     2.0  1091583256\n",
       "33832158  330975     8493     2.5  1091585709\n",
       "33832159  330975     8622     4.0  1091581777\n",
       "33832160  330975     8665     3.0  1091581765\n",
       "33832161  330975     8783     2.5  1091581799\n",
       "\n",
       "[33832162 rows x 4 columns]"
      ]
     },
     "execution_count": 4,
     "metadata": {},
     "output_type": "execute_result"
    }
   ],
   "source": [
    "# Lendo dados, renomeando colunas e exibindo primeiros itens\n",
    "ratings = pd.read_csv(data_root + \"ratings.csv\")\n",
    "ratings.columns = [\"user\", \"movieId\", \"rating\", \"time\"]\n",
    "ratings"
   ]
  },
  {
   "cell_type": "code",
   "execution_count": 5,
   "id": "b3bef354-4a00-4974-8550-f974f570d38f",
   "metadata": {
    "jupyter": {
     "source_hidden": true
    },
    "tags": []
   },
   "outputs": [],
   "source": [
    "# Obtendo lista de todos os valores únicos de avaliação registrados\n",
    "aval_unique = list(ratings['rating'].unique())\n",
    "aval_unique.sort()"
   ]
  },
  {
   "cell_type": "code",
   "execution_count": 6,
   "id": "1604829f",
   "metadata": {
    "jupyter": {
     "source_hidden": true
    },
    "tags": []
   },
   "outputs": [
    {
     "name": "stdout",
     "output_type": "stream",
     "text": [
      "Os dados contém 33832162 avaliações, cada qual com 4 variáveis associadas.\n",
      "\n",
      "Essas variáveis são: identificação do usuário, identificação do filme, avaliação do filme pelo usuário, e registro do momento em que foi avaliado.\n",
      "\n",
      "Os valores possíveis para se avaliar os filmes são:\n",
      "\n",
      " 0.5, 1.0, 1.5, 2.0, 2.5, 3.0, 3.5, 4.0, 4.5, 5.0.\n"
     ]
    }
   ],
   "source": [
    "print(\"Os dados contém {} avaliações, cada qual com {} variáveis associadas.\".format(ratings.shape[0], ratings.shape[1]))\n",
    "\n",
    "print(\"\\nEssas variáveis são: identificação do usuário, identificação do filme, avaliação do filme pelo usuário, e registro do momento em que foi avaliado.\")\n",
    "\n",
    "print(\"\\nOs valores possíveis para se avaliar os filmes são:\\n\\n\", \", \".join([str(value) for value in aval_unique]) + \".\")"
   ]
  },
  {
   "cell_type": "markdown",
   "id": "2239a995-4eba-432d-ad94-e2ad464893ee",
   "metadata": {},
   "source": [
    "### Estatísticas gerais"
   ]
  },
  {
   "cell_type": "code",
   "execution_count": 7,
   "id": "c72c88f6-36f5-4975-8fe8-0eb9e821a3db",
   "metadata": {
    "jupyter": {
     "source_hidden": true
    },
    "tags": []
   },
   "outputs": [
    {
     "name": "stdout",
     "output_type": "stream",
     "text": [
      "A média de todas as avaliações, independente do filme, foi 3.543\n",
      "E a mediana dos mesmos dados, foi 4.0\n"
     ]
    }
   ],
   "source": [
    "print(\"A média de todas as avaliações, independente do filme, foi {:.3f}\".format(ratings[ 'rating'].mean()))\n",
    "print(\"E a mediana dos mesmos dados, foi\", ratings['rating'].median())"
   ]
  },
  {
   "cell_type": "markdown",
   "id": "00741568-9658-4afa-a4d5-4701d7438e2b",
   "metadata": {},
   "source": [
    "# Visualização da Frequência de cada Avaliação"
   ]
  },
  {
   "cell_type": "code",
   "execution_count": 8,
   "id": "a5370765",
   "metadata": {
    "jupyter": {
     "source_hidden": true
    },
    "tags": []
   },
   "outputs": [],
   "source": [
    "import seaborn as sns\n",
    "import matplotlib.pyplot as plt"
   ]
  },
  {
   "cell_type": "code",
   "execution_count": 9,
   "id": "6eb2abd6",
   "metadata": {
    "jupyter": {
     "source_hidden": true
    },
    "tags": []
   },
   "outputs": [
    {
     "data": {
      "text/plain": [
       "Text(0, 0.5, 'Frequência')"
      ]
     },
     "execution_count": 9,
     "metadata": {},
     "output_type": "execute_result"
    },
    {
     "data": {
      "image/png": "[encoded data removed]",
      "text/plain": [
       "<Figure size 640x480 with 1 Axes>"
      ]
     },
     "metadata": {},
     "output_type": "display_data"
    }
   ],
   "source": [
    "# Obtendo a frequência absoluta e plotando em um gráfico de barras\n",
    "abs_freq = ratings['rating'].value_counts()\n",
    "\n",
    "# Plotando\n",
    "fig, ax = plt.subplots()\n",
    "ax = sns.barplot(abs_freq, color = 'steelblue')\n",
    "\n",
    "# Nomes no gráfico\n",
    "ax.set_title(\"Frequência das ratings dadas pelos Usuários\", fontsize = 16)\n",
    "ax.set_xlabel('rating', fontsize = 13)\n",
    "ax.set_ylabel('Frequência', fontsize = 13)"
   ]
  },
  {
   "cell_type": "code",
   "execution_count": 10,
   "id": "996b7f36-28f2-42e3-abf4-aab81eff002a",
   "metadata": {
    "jupyter": {
     "source_hidden": true
    },
    "tags": []
   },
   "outputs": [
    {
     "data": {
      "text/html": [
       "<div>\n",
       "<style scoped>\n",
       "    .dataframe tbody tr th:only-of-type {\n",
       "        vertical-align: middle;\n",
       "    }\n",
       "\n",
       "    .dataframe tbody tr th {\n",
       "        vertical-align: top;\n",
       "    }\n",
       "\n",
       "    .dataframe thead th {\n",
       "        text-align: right;\n",
       "    }\n",
       "</style>\n",
       "<table border=\"1\" class=\"dataframe\">\n",
       "  <thead>\n",
       "    <tr style=\"text-align: right;\">\n",
       "      <th></th>\n",
       "      <th>proportion</th>\n",
       "    </tr>\n",
       "    <tr>\n",
       "      <th>rating</th>\n",
       "      <th></th>\n",
       "    </tr>\n",
       "  </thead>\n",
       "  <tbody>\n",
       "    <tr>\n",
       "      <th>4.0</th>\n",
       "      <td>26.117027</td>\n",
       "    </tr>\n",
       "    <tr>\n",
       "      <th>3.0</th>\n",
       "      <td>18.918874</td>\n",
       "    </tr>\n",
       "    <tr>\n",
       "      <th>5.0</th>\n",
       "      <td>14.654405</td>\n",
       "    </tr>\n",
       "    <tr>\n",
       "      <th>3.5</th>\n",
       "      <td>13.197504</td>\n",
       "    </tr>\n",
       "    <tr>\n",
       "      <th>4.5</th>\n",
       "      <td>9.231024</td>\n",
       "    </tr>\n",
       "    <tr>\n",
       "      <th>2.0</th>\n",
       "      <td>6.344531</td>\n",
       "    </tr>\n",
       "    <tr>\n",
       "      <th>2.5</th>\n",
       "      <td>5.204317</td>\n",
       "    </tr>\n",
       "    <tr>\n",
       "      <th>1.0</th>\n",
       "      <td>2.996099</td>\n",
       "    </tr>\n",
       "    <tr>\n",
       "      <th>0.5</th>\n",
       "      <td>1.673869</td>\n",
       "    </tr>\n",
       "    <tr>\n",
       "      <th>1.5</th>\n",
       "      <td>1.662350</td>\n",
       "    </tr>\n",
       "  </tbody>\n",
       "</table>\n",
       "</div>"
      ],
      "text/plain": [
       "        proportion\n",
       "rating            \n",
       "4.0      26.117027\n",
       "3.0      18.918874\n",
       "5.0      14.654405\n",
       "3.5      13.197504\n",
       "4.5       9.231024\n",
       "2.0       6.344531\n",
       "2.5       5.204317\n",
       "1.0       2.996099\n",
       "0.5       1.673869\n",
       "1.5       1.662350"
      ]
     },
     "execution_count": 10,
     "metadata": {},
     "output_type": "execute_result"
    }
   ],
   "source": [
    "relat_freq = ratings['rating'].value_counts(normalize = True) * 100\n",
    "pd.DataFrame(relat_freq)"
   ]
  },
  {
   "cell_type": "code",
   "execution_count": 11,
   "id": "66207474-a2e5-4e3f-b194-90ec352db312",
   "metadata": {
    "tags": []
   },
   "outputs": [
    {
     "name": "stdout",
     "output_type": "stream",
     "text": [
      "A frequência de ratings menores que 2.0 é 6.33 %\n"
     ]
    }
   ],
   "source": [
    "print(\"A frequência de ratings menores que 2.0 é {:.2f} %\".format(sum(relat_freq[rating] for rating in [0.5, 1.0, 1.5])))"
   ]
  },
  {
   "cell_type": "markdown",
   "id": "d75328e2-0638-4ef9-a2ee-ac9f32d9698c",
   "metadata": {},
   "source": [
    "## Conclusões do Gráfico de Barras\n",
    "\n",
    "Pela visualização, podemos ratingr, que 4.0 foi a rating mais frequentemente dada pelos usuários, e que em segundo lugar, está a avaliação 3.0. Observamos que poucas avaliações abaixo de 2.0 foram dadas. \n",
    "\n",
    "Olhando a relação das frequências relativa, vemos também que apesar de 5.0 ser a rating máxima que um filme pode receber, ela foi a 3ª avaliação mais frequente, correspondendo à 13.1% de todas as avaliações.\n",
    "\n",
    "Parece haver um preferência por ratings inteiras. Vamos avaliar isso melhor a seguir."
   ]
  },
  {
   "cell_type": "markdown",
   "id": "4c6d4080-6722-4fda-9995-b0a1ae9db830",
   "metadata": {},
   "source": [
    "## Inteiras vs. Fracionárias - Obs: interface induz nota inteira"
   ]
  },
  {
   "cell_type": "code",
   "execution_count": 12,
   "id": "f2b9a1ad-48a8-4969-a55b-7f066f364abd",
   "metadata": {
    "jupyter": {
     "source_hidden": true
    },
    "tags": []
   },
   "outputs": [
    {
     "data": {
      "text/plain": [
       "Text(0.5, 1.0, 'ratings Fracionárias')"
      ]
     },
     "execution_count": 12,
     "metadata": {},
     "output_type": "execute_result"
    },
    {
     "data": {
      "image/png": "[encoded data removed]",
      "text/plain": [
       "<Figure size 1000x500 with 2 Axes>"
      ]
     },
     "metadata": {},
     "output_type": "display_data"
    }
   ],
   "source": [
    "# Figura e eixos\n",
    "fig, (ax1, ax2) = plt.subplots(1,2, figsize = (10,5))\n",
    "\n",
    "max_value = ratings.shape[0] / 3\n",
    "\n",
    "# Limites dos eixos\n",
    "ax1.set_ylim(0, max_value)\n",
    "ax2.set_ylim(0, max_value)\n",
    "\n",
    "# Plot inteiros\n",
    "sns.barplot(abs_freq, color = 'steelblue', order = [1.0, 2.0, 3.0, 4.0, 5.0], ax = ax1)\n",
    "\n",
    "# Plot fracionários\n",
    "sns.barplot(abs_freq, color = 'steelblue', order = [0.5, 1.5, 2.5, 3.5, 4.5], ax = ax2)\n",
    "\n",
    "# Títulos\n",
    "ax1.set_title(\"ratings Inteiras\", fontsize = 16)\n",
    "ax2.set_title(\"ratings Fracionárias\", fontsize = 16)"
   ]
  },
  {
   "cell_type": "markdown",
   "id": "d0be056b-4266-4923-a79c-114992c3a51b",
   "metadata": {},
   "source": [
    "Ao plotarmos lado a lado, na mesma escala, as frequências das ratings inteiras e fracionárias, vemos que as duas tem um comportamento muito semelhante. Porém, ao mesmo tempo, a frequência das ratings fracionárias parecem bem menores.\n",
    "\n",
    "Vamos calcular a frequência de uma em relação a outra:"
   ]
  },
  {
   "cell_type": "code",
   "execution_count": 13,
   "id": "35e51825-8cc6-47dc-a9f1-de3f1e6ff7ba",
   "metadata": {
    "jupyter": {
     "source_hidden": true
    },
    "tags": []
   },
   "outputs": [
    {
     "name": "stdout",
     "output_type": "stream",
     "text": [
      "A ratings fracionárias são 31.0 % de todas as ratings, de forma que as ratings inteiras são 2.2 vezes mais frequentes que as fracionárias.\n"
     ]
    }
   ],
   "source": [
    "relat_frac_freq = sum(relat_freq[rating] for rating in [0.5, 1.5, 2.5, 3.5, 4.5])\n",
    "relat_int_freq  = 100 - relat_frac_freq\n",
    "\n",
    "print(f\"A ratings fracionárias são {relat_frac_freq:.1f} % de todas as ratings, de forma que as ratings inteiras são {relat_int_freq / relat_frac_freq:.1f} vezes mais frequentes que as fracionárias.\")"
   ]
  },
  {
   "cell_type": "markdown",
   "id": "a4ff1fc1-b6d9-42a3-98f3-f033cdbeb32f",
   "metadata": {},
   "source": [
    "# Avaliações por filme"
   ]
  },
  {
   "cell_type": "markdown",
   "id": "d0ca2734-5e8d-435a-a3b2-f33f211dd41b",
   "metadata": {
    "tags": []
   },
   "source": [
    "## Múltiplas avaliações recebidas por um filme"
   ]
  },
  {
   "cell_type": "code",
   "execution_count": 14,
   "id": "b06bc210-65ff-4662-a695-b1fb0be1126a",
   "metadata": {
    "jupyter": {
     "source_hidden": true
    },
    "tags": []
   },
   "outputs": [
    {
     "data": {
      "text/html": [
       "<div>\n",
       "<style scoped>\n",
       "    .dataframe tbody tr th:only-of-type {\n",
       "        vertical-align: middle;\n",
       "    }\n",
       "\n",
       "    .dataframe tbody tr th {\n",
       "        vertical-align: top;\n",
       "    }\n",
       "\n",
       "    .dataframe thead th {\n",
       "        text-align: right;\n",
       "    }\n",
       "</style>\n",
       "<table border=\"1\" class=\"dataframe\">\n",
       "  <thead>\n",
       "    <tr style=\"text-align: right;\">\n",
       "      <th></th>\n",
       "      <th>user</th>\n",
       "      <th>movieId</th>\n",
       "      <th>rating</th>\n",
       "      <th>time</th>\n",
       "    </tr>\n",
       "  </thead>\n",
       "  <tbody>\n",
       "    <tr>\n",
       "      <th>0</th>\n",
       "      <td>1</td>\n",
       "      <td>1</td>\n",
       "      <td>4.0</td>\n",
       "      <td>1225734739</td>\n",
       "    </tr>\n",
       "    <tr>\n",
       "      <th>62</th>\n",
       "      <td>2</td>\n",
       "      <td>1</td>\n",
       "      <td>5.0</td>\n",
       "      <td>835815971</td>\n",
       "    </tr>\n",
       "    <tr>\n",
       "      <th>304</th>\n",
       "      <td>7</td>\n",
       "      <td>1</td>\n",
       "      <td>4.0</td>\n",
       "      <td>974518024</td>\n",
       "    </tr>\n",
       "    <tr>\n",
       "      <th>653</th>\n",
       "      <td>10</td>\n",
       "      <td>1</td>\n",
       "      <td>3.0</td>\n",
       "      <td>1430666394</td>\n",
       "    </tr>\n",
       "    <tr>\n",
       "      <th>852</th>\n",
       "      <td>12</td>\n",
       "      <td>1</td>\n",
       "      <td>5.0</td>\n",
       "      <td>862500738</td>\n",
       "    </tr>\n",
       "    <tr>\n",
       "      <th>952</th>\n",
       "      <td>14</td>\n",
       "      <td>1</td>\n",
       "      <td>2.5</td>\n",
       "      <td>1311533061</td>\n",
       "    </tr>\n",
       "    <tr>\n",
       "      <th>1242</th>\n",
       "      <td>21</td>\n",
       "      <td>1</td>\n",
       "      <td>3.0</td>\n",
       "      <td>1172695347</td>\n",
       "    </tr>\n",
       "  </tbody>\n",
       "</table>\n",
       "</div>"
      ],
      "text/plain": [
       "      user  movieId  rating        time\n",
       "0        1        1     4.0  1225734739\n",
       "62       2        1     5.0   835815971\n",
       "304      7        1     4.0   974518024\n",
       "653     10        1     3.0  1430666394\n",
       "852     12        1     5.0   862500738\n",
       "952     14        1     2.5  1311533061\n",
       "1242    21        1     3.0  1172695347"
      ]
     },
     "execution_count": 14,
     "metadata": {},
     "output_type": "execute_result"
    }
   ],
   "source": [
    "# Vizualização todas as avalizações dadas ao filme 1\n",
    "ratings.query(\"movieId==1\").head(7)"
   ]
  },
  {
   "cell_type": "markdown",
   "id": "aa19dd81-4df9-4570-89c0-01b6d559555e",
   "metadata": {},
   "source": [
    "# Média de cada filme"
   ]
  },
  {
   "cell_type": "markdown",
   "id": "7f4254c1-d8ba-4340-befb-739fe6febc4f",
   "metadata": {},
   "source": [
    "Calculamos aqui, a média das ratings de cada filme dos dados."
   ]
  },
  {
   "cell_type": "code",
   "execution_count": 15,
   "id": "a9153467-336c-4405-ab56-e1ff23002843",
   "metadata": {
    "jupyter": {
     "source_hidden": true
    },
    "tags": []
   },
   "outputs": [],
   "source": [
    "# Agrupando os dados por filmes (todas as avaliações de cada filme em um grupo)\n",
    "movie_grouped_ratings = ratings.groupby(\"movieId\")"
   ]
  },
  {
   "cell_type": "code",
   "execution_count": 16,
   "id": "01ea0abd-c93b-4b4a-a90e-216e0fef59c4",
   "metadata": {
    "jupyter": {
     "source_hidden": true
    },
    "tags": []
   },
   "outputs": [
    {
     "data": {
      "text/html": [
       "<div>\n",
       "<style scoped>\n",
       "    .dataframe tbody tr th:only-of-type {\n",
       "        vertical-align: middle;\n",
       "    }\n",
       "\n",
       "    .dataframe tbody tr th {\n",
       "        vertical-align: top;\n",
       "    }\n",
       "\n",
       "    .dataframe thead th {\n",
       "        text-align: right;\n",
       "    }\n",
       "</style>\n",
       "<table border=\"1\" class=\"dataframe\">\n",
       "  <thead>\n",
       "    <tr style=\"text-align: right;\">\n",
       "      <th></th>\n",
       "      <th>rating</th>\n",
       "    </tr>\n",
       "    <tr>\n",
       "      <th>movieId</th>\n",
       "      <th></th>\n",
       "    </tr>\n",
       "  </thead>\n",
       "  <tbody>\n",
       "    <tr>\n",
       "      <th>1</th>\n",
       "      <td>3.893508</td>\n",
       "    </tr>\n",
       "    <tr>\n",
       "      <th>2</th>\n",
       "      <td>3.278179</td>\n",
       "    </tr>\n",
       "    <tr>\n",
       "      <th>3</th>\n",
       "      <td>3.171271</td>\n",
       "    </tr>\n",
       "    <tr>\n",
       "      <th>4</th>\n",
       "      <td>2.868395</td>\n",
       "    </tr>\n",
       "    <tr>\n",
       "      <th>5</th>\n",
       "      <td>3.076957</td>\n",
       "    </tr>\n",
       "  </tbody>\n",
       "</table>\n",
       "</div>"
      ],
      "text/plain": [
       "           rating\n",
       "movieId          \n",
       "1        3.893508\n",
       "2        3.278179\n",
       "3        3.171271\n",
       "4        2.868395\n",
       "5        3.076957"
      ]
     },
     "execution_count": 16,
     "metadata": {},
     "output_type": "execute_result"
    }
   ],
   "source": [
    "# Calculando a média de todos os filmes\n",
    "movies_means = movie_grouped_ratings.mean()['rating']\n",
    "pd.DataFrame(movies_means).head()"
   ]
  },
  {
   "cell_type": "markdown",
   "id": "c34d0a26-4b47-4698-bc87-080a046ec60b",
   "metadata": {
    "tags": []
   },
   "source": [
    "### Estatísticas dos dados"
   ]
  },
  {
   "cell_type": "code",
   "execution_count": 17,
   "id": "9e3e4d7d-11ec-4885-aed2-48fe3603c812",
   "metadata": {
    "jupyter": {
     "source_hidden": true
    },
    "tags": []
   },
   "outputs": [
    {
     "data": {
      "text/html": [
       "<div>\n",
       "<style scoped>\n",
       "    .dataframe tbody tr th:only-of-type {\n",
       "        vertical-align: middle;\n",
       "    }\n",
       "\n",
       "    .dataframe tbody tr th {\n",
       "        vertical-align: top;\n",
       "    }\n",
       "\n",
       "    .dataframe thead th {\n",
       "        text-align: right;\n",
       "    }\n",
       "</style>\n",
       "<table border=\"1\" class=\"dataframe\">\n",
       "  <thead>\n",
       "    <tr style=\"text-align: right;\">\n",
       "      <th></th>\n",
       "      <th>rating</th>\n",
       "    </tr>\n",
       "  </thead>\n",
       "  <tbody>\n",
       "    <tr>\n",
       "      <th>count</th>\n",
       "      <td>83239.000000</td>\n",
       "    </tr>\n",
       "    <tr>\n",
       "      <th>mean</th>\n",
       "      <td>3.012706</td>\n",
       "    </tr>\n",
       "    <tr>\n",
       "      <th>std</th>\n",
       "      <td>0.790872</td>\n",
       "    </tr>\n",
       "    <tr>\n",
       "      <th>min</th>\n",
       "      <td>0.500000</td>\n",
       "    </tr>\n",
       "    <tr>\n",
       "      <th>25%</th>\n",
       "      <td>2.571429</td>\n",
       "    </tr>\n",
       "    <tr>\n",
       "      <th>50%</th>\n",
       "      <td>3.083333</td>\n",
       "    </tr>\n",
       "    <tr>\n",
       "      <th>75%</th>\n",
       "      <td>3.500000</td>\n",
       "    </tr>\n",
       "    <tr>\n",
       "      <th>max</th>\n",
       "      <td>5.000000</td>\n",
       "    </tr>\n",
       "  </tbody>\n",
       "</table>\n",
       "</div>"
      ],
      "text/plain": [
       "             rating\n",
       "count  83239.000000\n",
       "mean       3.012706\n",
       "std        0.790872\n",
       "min        0.500000\n",
       "25%        2.571429\n",
       "50%        3.083333\n",
       "75%        3.500000\n",
       "max        5.000000"
      ]
     },
     "execution_count": 17,
     "metadata": {},
     "output_type": "execute_result"
    }
   ],
   "source": [
    "pd.DataFrame(movies_means.describe())"
   ]
  },
  {
   "cell_type": "markdown",
   "id": "2c7621da-aab8-4248-9260-ed5b1c743dfb",
   "metadata": {},
   "source": [
    "# Plotando os dados de média por filme"
   ]
  },
  {
   "cell_type": "markdown",
   "id": "22738ab1-159d-4568-b572-a511172ba34a",
   "metadata": {},
   "source": [
    "## Boxplot"
   ]
  },
  {
   "cell_type": "code",
   "execution_count": 18,
   "id": "5f8a9461-1c18-4d15-aa41-83acbc018182",
   "metadata": {
    "jupyter": {
     "source_hidden": true
    },
    "tags": []
   },
   "outputs": [
    {
     "data": {
      "text/plain": [
       "Text(0.5, 0, 'Média dos filmes')"
      ]
     },
     "execution_count": 18,
     "metadata": {},
     "output_type": "execute_result"
    },
    {
     "data": {
      "image/png": "[encoded data removed]",
      "text/plain": [
       "<Figure size 640x480 with 1 Axes>"
      ]
     },
     "metadata": {},
     "output_type": "display_data"
    }
   ],
   "source": [
    "ax = sns.boxplot(x = movies_means, width = 0.5, whis=(0,100))\n",
    "ticks = [i*0.5 for i in range(11)]\n",
    "ax.set_xticks(ticks)\n",
    "ax.set_title(\"Distribuição das médias dos filmes\", fontsize = 16)\n",
    "ax.set_xlabel(\"Média dos filmes\")"
   ]
  },
  {
   "cell_type": "markdown",
   "id": "f442c48a-7ce5-4360-bc90-bcc85b579af9",
   "metadata": {},
   "source": [
    "### Conclusão boxplot"
   ]
  },
  {
   "cell_type": "markdown",
   "id": "125202a4-369f-4a60-96d8-6ade90434bff",
   "metadata": {},
   "source": [
    "Pela visualização de boxplot gerada sobre as médias de avaliações de filmes, podemos ver pela pequena distância entre o primeiro e terceiro quartil, que as ratings estão muito concentradas entre aproximadamente [XXX] 2.6 e [XXX] 3.5, enquanto os outros intervalos estão espalhados em intervalos maiores.\n",
    "\n",
    "Porém de toda forma, a distribuição ainda está um tanto deslocadas para a direita, o que indica uma assimetria à esquerda, de forma que os dados têm mais volume nos valores mais altos, e uma calma mais esticada à esquerda."
   ]
  },
  {
   "cell_type": "markdown",
   "id": "2f7c0369-cd4d-4942-9685-7aeef1df9fed",
   "metadata": {},
   "source": [
    "## Histograma"
   ]
  },
  {
   "cell_type": "code",
   "execution_count": 19,
   "id": "f67cf0bb-1e18-494d-a0ef-0a7274a8aacf",
   "metadata": {
    "jupyter": {
     "source_hidden": true
    },
    "tags": []
   },
   "outputs": [
    {
     "name": "stdout",
     "output_type": "stream",
     "text": [
      "\n"
     ]
    },
    {
     "data": {
      "image/png": "[encoded data removed]",
      "text/plain": [
       "<Figure size 640x480 with 1 Axes>"
      ]
     },
     "metadata": {},
     "output_type": "display_data"
    }
   ],
   "source": [
    "ax = sns.histplot(movies_means, bins = [0.25 + i*0.5 for i in range(10)])\n",
    "ticks = [0.5 + i*0.5 for i in range(9)]\n",
    "ax.set_xticks(ticks)\n",
    "print()"
   ]
  },
  {
   "cell_type": "markdown",
   "id": "514bdef5-9903-45dc-9a9c-dae09896c38a",
   "metadata": {},
   "source": [
    "Observamos que poucos filmes têm avaliações médias acima de 4.25, apesar de muitas avaliações 5.0 serem individualmente dadas. Vamos calcular quantos são:"
   ]
  },
  {
   "cell_type": "code",
   "execution_count": 20,
   "id": "42c12245-d4c7-486e-8731-1e22c9463166",
   "metadata": {
    "jupyter": {
     "source_hidden": true
    }
   },
   "outputs": [
    {
     "name": "stdout",
     "output_type": "stream",
     "text": [
      "A frequência de filmes com avaliação média maior que 4.25, é 4.71 %\n"
     ]
    }
   ],
   "source": [
    "high_ratings_freq = (movies_means[movies_means > 4.0].shape[0] / movies_means.shape[0]) * 100\n",
    "\n",
    "print(\"A frequência de filmes com avaliação média maior que 4.25, é {:.2f} %\".format(high_ratings_freq))"
   ]
  },
  {
   "cell_type": "markdown",
   "id": "9d164db7-29f6-4ae1-9cfc-ac5daf5ab877",
   "metadata": {},
   "source": [
    "Vamos investigar isso mais a fundo:"
   ]
  },
  {
   "cell_type": "markdown",
   "id": "115ad63e-0533-4ced-bf01-ed584ee7a31f",
   "metadata": {},
   "source": [
    "## Filmes com maior frequencia relativa de avaliações altas"
   ]
  },
  {
   "cell_type": "code",
   "execution_count": 21,
   "id": "417b7067-1647-414f-849a-03bdb1e491e4",
   "metadata": {
    "jupyter": {
     "source_hidden": true
    },
    "tags": []
   },
   "outputs": [],
   "source": [
    "# Montando o dataframe\n",
    "df = pd.DataFrame()\n",
    "df.index = movies_means.index\n",
    "df['mean_rating'] = movies_means.round(2)\n",
    "\n",
    "df[\"vote_counts\"] = ratings.groupby(\"movieId\")[\"movieId\"].value_counts()\n",
    "high_ratings = ratings.query(\"rating >= 4.5\").groupby(\"movieId\")[\"movieId\"].value_counts()\n",
    "\n",
    "df[\"high_ratings_rate\"] = (high_ratings / df[\"vote_counts\"]).fillna(0)"
   ]
  },
  {
   "cell_type": "code",
   "execution_count": 22,
   "id": "0671e341-5f4a-427f-a015-6f1b7e2f8ef6",
   "metadata": {
    "jupyter": {
     "source_hidden": true
    },
    "tags": []
   },
   "outputs": [
    {
     "data": {
      "text/plain": [
       "Text(0.5, 1.0, 'Taxa de avaliações altas x Contagem de avaliações')"
      ]
     },
     "execution_count": 22,
     "metadata": {},
     "output_type": "execute_result"
    },
    {
     "data": {
      "image/png": "[encoded data removed]",
      "text/plain": [
       "<Figure size 640x480 with 1 Axes>"
      ]
     },
     "metadata": {},
     "output_type": "display_data"
    }
   ],
   "source": [
    "# Inserindo no DataFrame\n",
    "min_vote_count = df[\"vote_counts\"].max() * 0.05\n",
    "df_pop = df.query(f\"vote_counts >= {min_vote_count}\").sort_values(\"high_ratings_rate\", ascending=False).copy()\n",
    "\n",
    "# Vizualização\n",
    "ax = sns.scatterplot(data=df_pop, x=\"vote_counts\", y=\"high_ratings_rate\", s=10)\n",
    "ax.set_title(\"Taxa de avaliações altas x Contagem de avaliações\", fontsize=16)"
   ]
  },
  {
   "cell_type": "markdown",
   "id": "3ab5a337-8482-4572-8d0b-16eee1c4abcf",
   "metadata": {},
   "source": [
    "Se chamarmos de avaliações altas as avaliações de 5.0 e avaliarmos a taxa de avaliações altas sobre o total, podemos ver que são raros os casos de filmes minimamente conhecidos que tem a grande maioria das avalições altas. Ou seja, mesmo que um filme receba muitas avaliações altas, esse valor tende a se equilibrar com avaliações menores."
   ]
  },
  {
   "cell_type": "markdown",
   "id": "dd3e8d13-50fd-4c7d-89c7-1c9baff12eea",
   "metadata": {},
   "source": [
    "## Scatterplot (Nota x Quantidade de avaliações)"
   ]
  },
  {
   "cell_type": "code",
   "execution_count": 23,
   "id": "667bae2c-afaf-431b-9ac9-03e669301ba9",
   "metadata": {
    "jupyter": {
     "source_hidden": true
    },
    "tags": []
   },
   "outputs": [
    {
     "data": {
      "text/plain": [
       "Text(0, 0.5, 'Quantidade de Votos')"
      ]
     },
     "execution_count": 23,
     "metadata": {},
     "output_type": "execute_result"
    },
    {
     "data": {
      "image/png": "[encoded data removed]",
      "text/plain": [
       "<Figure size 800x500 with 1 Axes>"
      ]
     },
     "metadata": {},
     "output_type": "display_data"
    }
   ],
   "source": [
    "# Gráfico\n",
    "fig, ax = plt.subplots(figsize = (8,5))\n",
    "sns.scatterplot(data = df.query(f\"vote_counts >= {min_vote_count}\"), x = 'mean_rating', y = 'vote_counts', size = 1, ax = ax)\n",
    "\n",
    "# Nomes no gráfico\n",
    "ax.set_title(\"Relação entre Número de Votos e Nota para um filme\", fontsize = 16)\n",
    "ax.set_xlabel(\"Nota\", fontsize = 13)\n",
    "ax.set_ylabel(\"Quantidade de Votos\", fontsize = 13)"
   ]
  },
  {
   "cell_type": "markdown",
   "id": "9b5e1631-dfa7-4ea2-9811-f392314a1290",
   "metadata": {
    "tags": []
   },
   "source": [
    "### Filmes que têm grande quantidade de votos, tendem a ter notas mais altas\n",
    "\n",
    "Observamos, que quanto maior a quantidade de votos um filme tem, é mais comum que o filme seja bem avaliado. Isso provavelmente vem do fato, que filmes de alta qualidade, tendem a se tornar mais populares, de forma que mais pessoas os assistam e os avaliem. Em outras palavras, é improvável que um filme que é amplamente considerado \"ruim\", atraia  um grande público."
   ]
  },
  {
   "cell_type": "markdown",
   "id": "839a9f84-8132-424e-aab2-1253026e420d",
   "metadata": {},
   "source": [
    "## Filmes perto do vértice"
   ]
  },
  {
   "cell_type": "markdown",
   "id": "ac9adfa5-4134-40d7-a22a-f45674ba82d3",
   "metadata": {},
   "source": [
    "Vamos procurar os filmes próximos do vértice desse \"triângulo\", ao calcular a distância do ponto à origem. Os filmes onde essa distância é maior, tendem a ser os filmes no vértice. Esses filmes supostamente seriam filmes amplamente considerados bons, e possivelmente \"clássicos\", já que foram avaliados por muitas pessoas, e mantêm uma nota muito alta."
   ]
  },
  {
   "cell_type": "markdown",
   "id": "ca04bf79-e3ea-4ea9-96b2-9eb7e71a54b8",
   "metadata": {},
   "source": [
    "De fato, podemos observar facilmente vários casos de filmes que receberam grande aclamação e que são bem conhecidos."
   ]
  },
  {
   "cell_type": "code",
   "execution_count": 24,
   "id": "c9709643-6b79-4ef5-a7f0-beaa7e4ae712",
   "metadata": {
    "jupyter": {
     "source_hidden": true
    },
    "tags": []
   },
   "outputs": [
    {
     "data": {
      "text/html": [
       "<div>\n",
       "<style scoped>\n",
       "    .dataframe tbody tr th:only-of-type {\n",
       "        vertical-align: middle;\n",
       "    }\n",
       "\n",
       "    .dataframe tbody tr th {\n",
       "        vertical-align: top;\n",
       "    }\n",
       "\n",
       "    .dataframe thead th {\n",
       "        text-align: right;\n",
       "    }\n",
       "</style>\n",
       "<table border=\"1\" class=\"dataframe\">\n",
       "  <thead>\n",
       "    <tr style=\"text-align: right;\">\n",
       "      <th></th>\n",
       "      <th>title</th>\n",
       "      <th>mean_rating</th>\n",
       "      <th>norm</th>\n",
       "    </tr>\n",
       "    <tr>\n",
       "      <th>movieId</th>\n",
       "      <th></th>\n",
       "      <th></th>\n",
       "      <th></th>\n",
       "    </tr>\n",
       "  </thead>\n",
       "  <tbody>\n",
       "    <tr>\n",
       "      <th>318</th>\n",
       "      <td>Shawshank Redemption, The</td>\n",
       "      <td>4.42</td>\n",
       "      <td>141.4</td>\n",
       "    </tr>\n",
       "    <tr>\n",
       "      <th>356</th>\n",
       "      <td>Forrest Gump</td>\n",
       "      <td>4.07</td>\n",
       "      <td>130.8</td>\n",
       "    </tr>\n",
       "    <tr>\n",
       "      <th>296</th>\n",
       "      <td>Pulp Fiction</td>\n",
       "      <td>4.19</td>\n",
       "      <td>130.0</td>\n",
       "    </tr>\n",
       "    <tr>\n",
       "      <th>2571</th>\n",
       "      <td>Matrix, The</td>\n",
       "      <td>4.16</td>\n",
       "      <td>128.5</td>\n",
       "    </tr>\n",
       "    <tr>\n",
       "      <th>593</th>\n",
       "      <td>Silence of the Lambs, The</td>\n",
       "      <td>4.15</td>\n",
       "      <td>125.5</td>\n",
       "    </tr>\n",
       "    <tr>\n",
       "      <th>260</th>\n",
       "      <td>Star Wars: Episode IV - A New Hope</td>\n",
       "      <td>4.09</td>\n",
       "      <td>122.0</td>\n",
       "    </tr>\n",
       "    <tr>\n",
       "      <th>2959</th>\n",
       "      <td>Fight Club</td>\n",
       "      <td>4.24</td>\n",
       "      <td>119.0</td>\n",
       "    </tr>\n",
       "    <tr>\n",
       "      <th>527</th>\n",
       "      <td>Schindler's List</td>\n",
       "      <td>4.24</td>\n",
       "      <td>118.1</td>\n",
       "    </tr>\n",
       "    <tr>\n",
       "      <th>858</th>\n",
       "      <td>Godfather, The</td>\n",
       "      <td>4.33</td>\n",
       "      <td>115.6</td>\n",
       "    </tr>\n",
       "    <tr>\n",
       "      <th>1196</th>\n",
       "      <td>Star Wars: Episode V - The Empire Strikes Back</td>\n",
       "      <td>4.12</td>\n",
       "      <td>114.0</td>\n",
       "    </tr>\n",
       "  </tbody>\n",
       "</table>\n",
       "</div>"
      ],
      "text/plain": [
       "                                                   title  mean_rating   norm\n",
       "movieId                                                                     \n",
       "318                           Shawshank Redemption, The          4.42  141.4\n",
       "356                                        Forrest Gump          4.07  130.8\n",
       "296                                        Pulp Fiction          4.19  130.0\n",
       "2571                                        Matrix, The          4.16  128.5\n",
       "593                           Silence of the Lambs, The          4.15  125.5\n",
       "260                  Star Wars: Episode IV - A New Hope          4.09  122.0\n",
       "2959                                         Fight Club          4.24  119.0\n",
       "527                                    Schindler's List          4.24  118.1\n",
       "858                                      Godfather, The          4.33  115.6\n",
       "1196     Star Wars: Episode V - The Empire Strikes Back          4.12  114.0"
      ]
     },
     "execution_count": 24,
     "metadata": {},
     "output_type": "execute_result"
    }
   ],
   "source": [
    "# Adicionando nome e ano \n",
    "df_pop_title = pd.concat([df,  movies], axis = 1).query(f\"vote_counts > {min_vote_count}\")\n",
    "\n",
    "# Coluna de produto (num de votos * rating média)\n",
    "df_pop_title_norm = df_pop_title.copy()\n",
    "df_pop_title_norm[\"adj\"] = 100 * df_pop_title_norm['vote_counts'] / df_pop_title_norm['vote_counts'].max()\n",
    "df_pop_title_norm[\"opos\"] = 100 * df_pop_title_norm['mean_rating'] / df_pop_title_norm['mean_rating'].max()\n",
    "\n",
    "df_pop_title_norm['norm'] = ((df_pop_title_norm[\"adj\"]**2 + df_pop_title_norm[\"opos\"]**2)**(1/2)).round(1)\n",
    "\n",
    "# Exibir ordenando pelo produto\n",
    "df_pop_title_norm.sort_values('norm', ascending = False)[[\"title\", \"mean_rating\", \"norm\"]].head(10)"
   ]
  },
  {
   "cell_type": "markdown",
   "id": "3e0bdab6-e84a-419e-a238-f7d5db119a43",
   "metadata": {},
   "source": [
    "## Limite de nota com mais de X votos"
   ]
  },
  {
   "cell_type": "code",
   "execution_count": 25,
   "id": "577e4cbb-1316-406d-b27e-4f77acefad09",
   "metadata": {
    "tags": []
   },
   "outputs": [
    {
     "data": {
      "text/html": [
       "<div>\n",
       "<style scoped>\n",
       "    .dataframe tbody tr th:only-of-type {\n",
       "        vertical-align: middle;\n",
       "    }\n",
       "\n",
       "    .dataframe tbody tr th {\n",
       "        vertical-align: top;\n",
       "    }\n",
       "\n",
       "    .dataframe thead th {\n",
       "        text-align: right;\n",
       "    }\n",
       "</style>\n",
       "<table border=\"1\" class=\"dataframe\">\n",
       "  <thead>\n",
       "    <tr style=\"text-align: right;\">\n",
       "      <th></th>\n",
       "      <th>title</th>\n",
       "      <th>mean_rating</th>\n",
       "      <th>vote_counts</th>\n",
       "    </tr>\n",
       "    <tr>\n",
       "      <th>movieId</th>\n",
       "      <th></th>\n",
       "      <th></th>\n",
       "      <th></th>\n",
       "    </tr>\n",
       "  </thead>\n",
       "  <tbody>\n",
       "    <tr>\n",
       "      <th>318</th>\n",
       "      <td>Shawshank Redemption, The</td>\n",
       "      <td>4.42</td>\n",
       "      <td>122296.0</td>\n",
       "    </tr>\n",
       "    <tr>\n",
       "      <th>202439</th>\n",
       "      <td>Parasite</td>\n",
       "      <td>4.33</td>\n",
       "      <td>12399.0</td>\n",
       "    </tr>\n",
       "    <tr>\n",
       "      <th>858</th>\n",
       "      <td>Godfather, The</td>\n",
       "      <td>4.33</td>\n",
       "      <td>75004.0</td>\n",
       "    </tr>\n",
       "    <tr>\n",
       "      <th>50</th>\n",
       "      <td>Usual Suspects, The</td>\n",
       "      <td>4.27</td>\n",
       "      <td>72893.0</td>\n",
       "    </tr>\n",
       "    <tr>\n",
       "      <th>1203</th>\n",
       "      <td>12 Angry Men</td>\n",
       "      <td>4.27</td>\n",
       "      <td>22730.0</td>\n",
       "    </tr>\n",
       "    <tr>\n",
       "      <th>1221</th>\n",
       "      <td>Godfather: Part II, The</td>\n",
       "      <td>4.27</td>\n",
       "      <td>47271.0</td>\n",
       "    </tr>\n",
       "    <tr>\n",
       "      <th>2019</th>\n",
       "      <td>Seven Samurai (Shichinin no samurai)</td>\n",
       "      <td>4.25</td>\n",
       "      <td>17120.0</td>\n",
       "    </tr>\n",
       "    <tr>\n",
       "      <th>2959</th>\n",
       "      <td>Fight Club</td>\n",
       "      <td>4.24</td>\n",
       "      <td>86207.0</td>\n",
       "    </tr>\n",
       "    <tr>\n",
       "      <th>527</th>\n",
       "      <td>Schindler's List</td>\n",
       "      <td>4.24</td>\n",
       "      <td>84232.0</td>\n",
       "    </tr>\n",
       "    <tr>\n",
       "      <th>5618</th>\n",
       "      <td>Spirited Away (Sen to Chihiro no kamikakushi)</td>\n",
       "      <td>4.23</td>\n",
       "      <td>35375.0</td>\n",
       "    </tr>\n",
       "  </tbody>\n",
       "</table>\n",
       "</div>"
      ],
      "text/plain": [
       "                                                  title  mean_rating  \\\n",
       "movieId                                                                \n",
       "318                          Shawshank Redemption, The          4.42   \n",
       "202439                                        Parasite          4.33   \n",
       "858                                     Godfather, The          4.33   \n",
       "50                                 Usual Suspects, The          4.27   \n",
       "1203                                      12 Angry Men          4.27   \n",
       "1221                           Godfather: Part II, The          4.27   \n",
       "2019              Seven Samurai (Shichinin no samurai)          4.25   \n",
       "2959                                        Fight Club          4.24   \n",
       "527                                   Schindler's List          4.24   \n",
       "5618     Spirited Away (Sen to Chihiro no kamikakushi)          4.23   \n",
       "\n",
       "         vote_counts  \n",
       "movieId               \n",
       "318         122296.0  \n",
       "202439       12399.0  \n",
       "858          75004.0  \n",
       "50           72893.0  \n",
       "1203         22730.0  \n",
       "1221         47271.0  \n",
       "2019         17120.0  \n",
       "2959         86207.0  \n",
       "527          84232.0  \n",
       "5618         35375.0  "
      ]
     },
     "execution_count": 25,
     "metadata": {},
     "output_type": "execute_result"
    }
   ],
   "source": [
    "df_pop_title.query(f\"vote_counts > {min_vote_count}\").sort_values(\"mean_rating\", ascending=False).head(10)[[\"title\", \"mean_rating\", \"vote_counts\"]]"
   ]
  },
  {
   "cell_type": "code",
   "execution_count": null,
   "id": "e9c48496-c679-42d3-b4e6-e00d28b3a929",
   "metadata": {
    "jupyter": {
     "source_hidden": true
    }
   },
   "outputs": [],
   "source": [
    "print(\"Podemos observar que de fato, como indica o comportamento em forma de 'triângulo' acima, nenhum filme\")\n",
    "print(\"suficientemente conhecido e votado, chega a notas muito altas.\")\n",
    "print(f\"Por exemplo, nenhum filme com mais de {int(min_vote_count)} votos conseguiu ultrapassar a nota de {round(df_copy['mean_rating'].max(), 2)}\")"
   ]
  },
  {
   "cell_type": "markdown",
   "id": "987ba292-3eba-460e-be79-76f7f67a5f73",
   "metadata": {},
   "source": [
    "Isso provelmente vem do fato, de que um filme não muito popular, pode atingir um nicho de pessoas particularmente interessadas naquele tipo de filme, e a maioria delas avaliar muito bem o filme, mas ao atingir um público razoável, é muito difícil que o filme vá agradar a todos, impedindo assim, que um filme popular, atinja notas muito altas."
   ]
  },
  {
   "cell_type": "markdown",
   "id": "5cd15faa-19cc-4999-8f82-6ee9a7ece213",
   "metadata": {},
   "source": [
    "## Dispersão de ratings por Filmes"
   ]
  },
  {
   "cell_type": "code",
   "execution_count": 31,
   "id": "80067619-f139-4cb8-96b3-42fb6a3cf039",
   "metadata": {},
   "outputs": [],
   "source": [
    "pop_movies = df.query(f\"vote_counts >= {min_vote_count}\").index\n",
    "selec = df.index.isin(pop_movies)\n",
    "\n",
    "# Desvio padrão das avaliações\n",
    "deviation = ratings.groupby(\"movieId\")[\"rating\"].std()[selec].round(3)\n",
    "deviation.name = \"rating_std\"\n",
    "\n",
    "# Juntando dados\n",
    "df_pop_title_std = pd.concat([df_pop_title, deviation], axis=1)[[\"title\", \"mean_rating\", \"rating_std\"]]"
   ]
  },
  {
   "cell_type": "markdown",
   "id": "92ff4023-2a7c-4585-ae83-6cc718b85d54",
   "metadata": {},
   "source": [
    "### Qual a melhor sugestão de filme a se fazer?\n",
    "\n",
    "Aqui estão os filmes com nota maior que 4.0, ordenadas pelas menores variações nas votações."
   ]
  },
  {
   "cell_type": "code",
   "execution_count": 33,
   "id": "cb328625-e156-4b65-abc5-f2f2d4d655c5",
   "metadata": {},
   "outputs": [
    {
     "data": {
      "text/html": [
       "<div>\n",
       "<style scoped>\n",
       "    .dataframe tbody tr th:only-of-type {\n",
       "        vertical-align: middle;\n",
       "    }\n",
       "\n",
       "    .dataframe tbody tr th {\n",
       "        vertical-align: top;\n",
       "    }\n",
       "\n",
       "    .dataframe thead th {\n",
       "        text-align: right;\n",
       "    }\n",
       "</style>\n",
       "<table border=\"1\" class=\"dataframe\">\n",
       "  <thead>\n",
       "    <tr style=\"text-align: right;\">\n",
       "      <th></th>\n",
       "      <th>title</th>\n",
       "      <th>mean_rating</th>\n",
       "      <th>rating_std</th>\n",
       "    </tr>\n",
       "    <tr>\n",
       "      <th>movieId</th>\n",
       "      <th></th>\n",
       "      <th></th>\n",
       "      <th></th>\n",
       "    </tr>\n",
       "  </thead>\n",
       "  <tbody>\n",
       "    <tr>\n",
       "      <th>318</th>\n",
       "      <td>Shawshank Redemption, The</td>\n",
       "      <td>4.4</td>\n",
       "      <td>0.77</td>\n",
       "    </tr>\n",
       "    <tr>\n",
       "      <th>202439</th>\n",
       "      <td>Parasite</td>\n",
       "      <td>4.3</td>\n",
       "      <td>0.77</td>\n",
       "    </tr>\n",
       "    <tr>\n",
       "      <th>1203</th>\n",
       "      <td>12 Angry Men</td>\n",
       "      <td>4.3</td>\n",
       "      <td>0.78</td>\n",
       "    </tr>\n",
       "    <tr>\n",
       "      <th>50</th>\n",
       "      <td>Usual Suspects, The</td>\n",
       "      <td>4.3</td>\n",
       "      <td>0.80</td>\n",
       "    </tr>\n",
       "    <tr>\n",
       "      <th>858</th>\n",
       "      <td>Godfather, The</td>\n",
       "      <td>4.3</td>\n",
       "      <td>0.87</td>\n",
       "    </tr>\n",
       "    <tr>\n",
       "      <th>1221</th>\n",
       "      <td>Godfather: Part II, The</td>\n",
       "      <td>4.3</td>\n",
       "      <td>0.88</td>\n",
       "    </tr>\n",
       "    <tr>\n",
       "      <th>908</th>\n",
       "      <td>North by Northwest</td>\n",
       "      <td>4.2</td>\n",
       "      <td>0.78</td>\n",
       "    </tr>\n",
       "    <tr>\n",
       "      <th>904</th>\n",
       "      <td>Rear Window</td>\n",
       "      <td>4.2</td>\n",
       "      <td>0.79</td>\n",
       "    </tr>\n",
       "    <tr>\n",
       "      <th>44555</th>\n",
       "      <td>Lives of Others, The (Das leben der Anderen)</td>\n",
       "      <td>4.2</td>\n",
       "      <td>0.79</td>\n",
       "    </tr>\n",
       "    <tr>\n",
       "      <th>930</th>\n",
       "      <td>Notorious</td>\n",
       "      <td>4.2</td>\n",
       "      <td>0.80</td>\n",
       "    </tr>\n",
       "  </tbody>\n",
       "</table>\n",
       "</div>"
      ],
      "text/plain": [
       "                                                 title  mean_rating  \\\n",
       "movieId                                                               \n",
       "318                         Shawshank Redemption, The           4.4   \n",
       "202439                                       Parasite           4.3   \n",
       "1203                                     12 Angry Men           4.3   \n",
       "50                                Usual Suspects, The           4.3   \n",
       "858                                    Godfather, The           4.3   \n",
       "1221                          Godfather: Part II, The           4.3   \n",
       "908                                North by Northwest           4.2   \n",
       "904                                       Rear Window           4.2   \n",
       "44555    Lives of Others, The (Das leben der Anderen)           4.2   \n",
       "930                                         Notorious           4.2   \n",
       "\n",
       "         rating_std  \n",
       "movieId              \n",
       "318            0.77  \n",
       "202439         0.77  \n",
       "1203           0.78  \n",
       "50             0.80  \n",
       "858            0.87  \n",
       "1221           0.88  \n",
       "908            0.78  \n",
       "904            0.79  \n",
       "44555          0.79  \n",
       "930            0.80  "
      ]
     },
     "execution_count": 33,
     "metadata": {},
     "output_type": "execute_result"
    }
   ],
   "source": [
    "df_pop_title_std_copy = df_pop_title_std.copy()\n",
    "df_pop_title_std_copy[\"mean_rating\"] = df_pop_title_std_copy[\"mean_rating\"].round(1)\n",
    "df_pop_title_std_copy[\"rating_std\"] = df_pop_title_std_copy[\"rating_std\"].round(2)\n",
    "\n",
    "pd.set_option('display.max_rows', None)\n",
    "\n",
    "df_pop_title_std_copy.sort_values([\"mean_rating\", \"rating_std\"], ascending=[False, True]).head(10)"
   ]
  },
  {
   "cell_type": "markdown",
   "id": "9cbe62f2-77b8-4b4a-adfe-b51a5adbc185",
   "metadata": {},
   "source": [
    "### Mesma nota, diferentes recepções por parte do público"
   ]
  },
  {
   "cell_type": "markdown",
   "id": "f54c17d5-618d-4a68-96a0-47b420845f0a",
   "metadata": {},
   "source": [
    "Abaixo podemos observar dois filmes com notas muito próximas, mas que tiveram recepções um tanto diferentes. Em Senhor dos Anéis a porcentagem de pessoas que acharam o filme ótimo, foi maior que a porcentagem de pessoas que acharam apenas bom, enquanto em \"Pacto Sinistro\", o inverso acontece. De alguma forma essas duas variações se compensam e resultam numa nota média igual, porém os dados completos representam um recepção muito diferente. Visto isso, é muito mais seguro indicar o primeiro do que o segundo filme."
   ]
  },
  {
   "cell_type": "code",
   "execution_count": 34,
   "id": "f1a71c06-96f4-4b76-b329-c5adac7c2d4a",
   "metadata": {},
   "outputs": [
    {
     "data": {
      "text/plain": [
       "Text(0.5, 1.0, 'Votações de \"Strangers on a Train \" \\n\\n Nota: 4.1 - Disperção: 0.761')"
      ]
     },
     "execution_count": 34,
     "metadata": {},
     "output_type": "execute_result"
    },
    {
     "data": {
      "image/png": "[encoded data removed]",
      "text/plain": [
       "<Figure size 1600x400 with 2 Axes>"
      ]
     },
     "metadata": {},
     "output_type": "display_data"
    }
   ],
   "source": [
    "f0 = 7153\n",
    "f1 = 2186\n",
    "\n",
    "plt.rcParams[\"figure.figsize\"] = (16,4)\n",
    "plt.rcParams['figure.dpi'] = 100  \n",
    "\n",
    "figure, axs = plt.subplots(1, 2) \n",
    "plt.subplots_adjust(left=None, bottom=None, right=None, top=None, wspace=0.3, hspace=0.3)\n",
    "\n",
    "movie_ratings0 = ratings[ratings[\"movieId\"] == f0][\"rating\"]\n",
    "movie_ratings1 = ratings[ratings[\"movieId\"] == f1][\"rating\"]\n",
    "\n",
    "bins1 = [0.25+i*0.5 for i in range(11)]\n",
    "bins2 = [0.5+i*1.0 for i in range(6)]\n",
    "\n",
    "sns.histplot(data=movie_ratings0, bins=bins2, ax=axs[0], stat=\"proportion\")\n",
    "axs[0].set_title(f'Votações de \"{df_pop_title_std.loc[f0][\"title\"]}\" \\n\\n Nota: {df_pop_title_std.loc[f0][\"mean_rating\"]} - Disperção: {df_pop_title_std.loc[f0][\"rating_std\"]}')\n",
    "\n",
    "sns.histplot(data=movie_ratings1, bins=bins2, ax=axs[1], stat=\"proportion\")\n",
    "axs[1].set_title(f'Votações de \"{df_pop_title_std.loc[f1][\"title\"]}\" \\n\\n Nota: {df_pop_title_std.loc[f1][\"mean_rating\"]} - Disperção: {df_pop_title_std.loc[f1][\"rating_std\"]}')"
   ]
  },
  {
   "cell_type": "markdown",
   "id": "17b7dbb2-f5ab-4445-a27d-80cc95608d09",
   "metadata": {},
   "source": [
    "## Filmes que dividem opinião"
   ]
  },
  {
   "cell_type": "markdown",
   "id": "2fe431cb-7288-4ff4-9e57-675dd74e7441",
   "metadata": {},
   "source": [
    "Alguns filmes não levam o público a um concenso geral. Como é o exemplo de \"Crepúsculo\", de nota 2.4, e \"O Vento Levou\" de nota 3.8. Neste último caso, apesar de haver uma tendência maior que de Crespúsculo, podemos observar que uma grande porção considerou o filme ótimo, mas um grande porção também considerou o filme \"Ok\"."
   ]
  },
  {
   "cell_type": "code",
   "execution_count": 189,
   "id": "f395267e-148a-4324-b31e-81b341792de8",
   "metadata": {
    "jupyter": {
     "source_hidden": true
    }
   },
   "outputs": [
    {
     "data": {
      "text/plain": [
       "Text(0.5, 1.0, 'Distribuição aleatória de votações')"
      ]
     },
     "execution_count": 189,
     "metadata": {},
     "output_type": "execute_result"
    },
    {
     "data": {
      "image/png": "[encoded data removed]",
      "text/plain": [
       "<Figure size 1600x400 with 3 Axes>"
      ]
     },
     "metadata": {},
     "output_type": "display_data"
    }
   ],
   "source": [
    "f0 = 63992 # Twilight\n",
    "f1 = 920 # West Side Story\n",
    "\n",
    "plt.rcParams[\"figure.figsize\"] = (16,4)\n",
    "plt.rcParams['figure.dpi'] = 100  \n",
    "\n",
    "figure, axs = plt.subplots(1, 3) \n",
    "plt.subplots_adjust(left=None, bottom=None, right=None, top=None, wspace=0.3, hspace=0.3)\n",
    "\n",
    "movie_ratings0 = ratings[ratings[\"movieId\"] == f0][\"rating\"]\n",
    "movie_ratings1 = ratings[ratings[\"movieId\"] == f1][\"rating\"]\n",
    "\n",
    "bins1 = [0.25+i*0.5 for i in range(11)]\n",
    "bins2 = [0.5+i*1.0 for i in range(6)]\n",
    "\n",
    "sns.histplot(data=movie_ratings0, bins=bins2, ax=axs[0], stat=\"proportion\")\n",
    "axs[0].set_title(f'Votações de \"{df_pop_title_std.loc[f0][\"title\"]}\" \\n\\n Nota: {df_pop_title_std.loc[f0][\"mean_rating\"]} - Disperção: {df_pop_title_std.loc[f0][\"rating_std\"]}')\n",
    "\n",
    "sns.histplot(data=movie_ratings1, bins=bins2, ax=axs[1], stat=\"proportion\")\n",
    "axs[1].set_title(f'Votações de \"{df_pop_title_std.loc[f1][\"title\"]}\" \\n\\n Nota: {df_pop_title_std.loc[f1][\"mean_rating\"]} - Disperção: {df_pop_title_std.loc[f1][\"rating_std\"]}')\n",
    "\n",
    "plt.rcParams[\"figure.figsize\"] = (8,4)\n",
    "plt.rcParams['figure.dpi'] = 100  \n",
    "\n",
    "import random\n",
    "random.seed(16)\n",
    "values = []\n",
    "population = [0.5 + i*0.5 for i in range(10)]\n",
    "for i in range(100):\n",
    "\n",
    "    values.append(random.choice(population))\n",
    "\n",
    "sns.histplot(data=pd.Series(values), bins=bins2, ax=axs[2], stat=\"count\")\n",
    "axs[2].set_title(\"Distribuição aleatória de votações\")"
   ]
  },
  {
   "cell_type": "markdown",
   "id": "7ae9b734-c797-48ab-b5de-4b25e3b02f96",
   "metadata": {},
   "source": [
    "As notas do público sobre Crepúsculo são tão dispersas, que chegam a lembrar uma distribuição aleatória."
   ]
  },
  {
   "cell_type": "markdown",
   "id": "c0934157-3ddb-4318-bc95-042d697b8f8b",
   "metadata": {
    "tags": []
   },
   "source": [
    "#####\n",
    "\n",
    "pd.set_option('display.max_rows', 30)\n",
    "#####\n",
    "\n",
    "# Dados usados\n",
    "ratings2 = ratings.drop(columns=['time','user']).copy()\n",
    "\n",
    "selec = ratings2['movieId'].isin(pop_movies)\n",
    "ratings2 = ratings2[selec].copy()\n",
    "\n",
    "# Agrupando por filme\n",
    "grupo_ratings = ratings2.groupby('movieId')\n",
    "\n",
    "# Calculando std\n",
    "std_ratings = grupo_ratings.std()\n",
    "\n",
    "# Renomeando coluna\n",
    "std_ratings.columns = ['std_rating']\n",
    "\n",
    "# Adicionando ao DataFrame \n",
    "df_pop3 = pd.concat([df_pop2, std_ratings], axis = 1)\n",
    "\n",
    "# Buscando filmes  ################# EXPLORAR ########################\n",
    "df_pop3.query('rating_media > 4.0').sort_values('std_rating', ascending = True)"
   ]
  },
  {
   "cell_type": "markdown",
   "id": "87e86411-be18-4724-9e2e-0a858507054d",
   "metadata": {},
   "source": [
    "# Relações com ano"
   ]
  },
  {
   "cell_type": "markdown",
   "id": "62056a42-9891-4030-ba3b-f636eee08a49",
   "metadata": {},
   "source": [
    "Existe uma relação clara entre rating média e ano?"
   ]
  },
  {
   "cell_type": "markdown",
   "id": "1deb1a53-4e32-459c-822b-fb9625c933a5",
   "metadata": {
    "tags": []
   },
   "source": [
    "fig, ax = plt.subplots(figsize = (8,5))\n",
    "\n",
    "sns.histplot(data = df_pop3.query('rating_media >= 3.5'), x = 'ano', \n",
    "             bins = [ (1930 + 5*i) for i in range(20) ], \n",
    "             color = 'r', label = 'Maior que 3.5', \n",
    "             ax = ax )\n",
    "\n",
    "sns.histplot(data = df_pop3.query('rating_media < 3.5'), x = 'ano', \n",
    "             bins = [ (1930 + 5*i) for i in range(20) ], \n",
    "             color = 'b', label = 'Menor que 3.5' ,\n",
    "             ax = ax )\n",
    "\n",
    "plt.legend()"
   ]
  },
  {
   "cell_type": "markdown",
   "id": "2e58bc7d-2007-45ad-a360-b5e4b4fa57bc",
   "metadata": {},
   "source": [
    "Podemos observar primeiramente, que antes de "
   ]
  },
  {
   "cell_type": "markdown",
   "id": "a05326b9-2d43-44e3-8837-8fa12c393d3e",
   "metadata": {
    "tags": []
   },
   "source": [
    "### rating MÉDIA x ANO\n",
    "sns.scatterplot(data = df_pop3, x = 'ano', y = 'rating_media') #,  hue = 'rating_media' )"
   ]
  },
  {
   "cell_type": "code",
   "execution_count": null,
   "id": "3d3c3dbc-158c-4dd7-afcc-0e689146f661",
   "metadata": {
    "tags": []
   },
   "outputs": [],
   "source": [
    "#pd.set_option('display.max_rows', None)"
   ]
  },
  {
   "cell_type": "code",
   "execution_count": null,
   "id": "80fba308-4db8-4a65-bb0f-4b404ede2c09",
   "metadata": {
    "jupyter": {
     "source_hidden": true
    },
    "tags": []
   },
   "outputs": [],
   "source": [
    "fig, ax = plt.subplots(figsize = (10,30))\n",
    "\n",
    "sns.barplot(y = df_pop3.groupby('ano')['rating_media'].mean().index, \n",
    "            x = df_pop3.groupby('ano')['rating_media'].mean().values, orient = 'h')\n",
    "\n",
    "df_pop3.groupby('ano')['rating_media'].mean().sort_values()"
   ]
  },
  {
   "cell_type": "markdown",
   "id": "64951035-bd03-4a05-9e29-31907517c3f3",
   "metadata": {
    "tags": []
   },
   "source": [
    "sns.scatterplot(data = df_pop3, x = 'ano', y = 'produto',  hue = 'rating_media' )"
   ]
  },
  {
   "cell_type": "markdown",
   "id": "70f7837c-6c0e-40f3-8409-578526432ba7",
   "metadata": {},
   "source": [
    "ratings.query('movieId == 1276').sort_values('rating')['rating'].value_counts().sort_index()"
   ]
  },
  {
   "cell_type": "code",
   "execution_count": null,
   "id": "9008380e-c468-4db5-b667-cbd24ccfaa1e",
   "metadata": {},
   "outputs": [],
   "source": []
  },
  {
   "cell_type": "code",
   "execution_count": null,
   "id": "03e47ee9-217e-421f-adde-4bc499206cc7",
   "metadata": {},
   "outputs": [],
   "source": []
  },
  {
   "cell_type": "code",
   "execution_count": null,
   "id": "28f7df04-feaf-4ea3-ac4f-a602e30adb8c",
   "metadata": {},
   "outputs": [],
   "source": []
  },
  {
   "cell_type": "markdown",
   "id": "5280f91b-6d8d-4118-949c-bfb971f141c5",
   "metadata": {
    "tags": []
   },
   "source": [
    "## BUSCA FILMES\n",
    "\n",
    "filmes.query('movieId == 5888')"
   ]
  }
 ],
 "metadata": {
  "kernelspec": {
   "display_name": "Python 3 (ipykernel)",
   "language": "python",
   "name": "python3"
  },
  "language_info": {
   "codemirror_mode": {
    "name": "ipython",
    "version": 3
   },
   "file_extension": ".py",
   "mimetype": "text/x-python",
   "name": "python",
   "nbconvert_exporter": "python",
   "pygments_lexer": "ipython3",
   "version": "3.12.3"
  }
 },
 "nbformat": 4,
 "nbformat_minor": 5
}
