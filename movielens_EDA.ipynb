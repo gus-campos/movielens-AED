{
 "cells": [
  {
   "cell_type": "markdown",
   "id": "b7cca992-4d60-49cd-8fd5-de77b50db6f5",
   "metadata": {},
   "source": [
    "# Avaliações de Filmes do MovieLens"
   ]
  },
  {
   "cell_type": "code",
   "execution_count": 1,
   "id": "97e01bd6-8a3b-4a11-aa5e-77b4f203eb9f",
   "metadata": {
    "tags": []
   },
   "outputs": [],
   "source": [
    "# Importando bibliotecas\n",
    "import pandas as pd\n",
    "import seaborn as sns"
   ]
  },
  {
   "cell_type": "code",
   "execution_count": 2,
   "id": "ceef864c-7664-432b-93f0-67d84bee5306",
   "metadata": {},
   "outputs": [],
   "source": [
    "data_root = \"Dados/ml-latest/\""
   ]
  },
  {
   "cell_type": "markdown",
   "id": "cc642d8d-212b-4e70-8542-ebe05e556988",
   "metadata": {},
   "source": [
    "## Formato dos dados"
   ]
  },
  {
   "cell_type": "code",
   "execution_count": 3,
   "id": "9c91a07c-7605-4822-8106-72e7b5b9e9aa",
   "metadata": {
    "tags": []
   },
   "outputs": [
    {
     "data": {
      "text/html": [
       "<div>\n",
       "<style scoped>\n",
       "    .dataframe tbody tr th:only-of-type {\n",
       "        vertical-align: middle;\n",
       "    }\n",
       "\n",
       "    .dataframe tbody tr th {\n",
       "        vertical-align: top;\n",
       "    }\n",
       "\n",
       "    .dataframe thead th {\n",
       "        text-align: right;\n",
       "    }\n",
       "</style>\n",
       "<table border=\"1\" class=\"dataframe\">\n",
       "  <thead>\n",
       "    <tr style=\"text-align: right;\">\n",
       "      <th></th>\n",
       "      <th>title</th>\n",
       "      <th>genres</th>\n",
       "      <th>year</th>\n",
       "    </tr>\n",
       "    <tr>\n",
       "      <th>movieId</th>\n",
       "      <th></th>\n",
       "      <th></th>\n",
       "      <th></th>\n",
       "    </tr>\n",
       "  </thead>\n",
       "  <tbody>\n",
       "    <tr>\n",
       "      <th>1</th>\n",
       "      <td>Toy Story</td>\n",
       "      <td>Adventure|Animation|Children|Comedy|Fantasy</td>\n",
       "      <td>1995</td>\n",
       "    </tr>\n",
       "    <tr>\n",
       "      <th>2</th>\n",
       "      <td>Jumanji</td>\n",
       "      <td>Adventure|Children|Fantasy</td>\n",
       "      <td>1995</td>\n",
       "    </tr>\n",
       "    <tr>\n",
       "      <th>3</th>\n",
       "      <td>Grumpier Old Men</td>\n",
       "      <td>Comedy|Romance</td>\n",
       "      <td>1995</td>\n",
       "    </tr>\n",
       "    <tr>\n",
       "      <th>4</th>\n",
       "      <td>Waiting to Exhale</td>\n",
       "      <td>Comedy|Drama|Romance</td>\n",
       "      <td>1995</td>\n",
       "    </tr>\n",
       "    <tr>\n",
       "      <th>5</th>\n",
       "      <td>Father of the Bride Part II</td>\n",
       "      <td>Comedy</td>\n",
       "      <td>1995</td>\n",
       "    </tr>\n",
       "    <tr>\n",
       "      <th>...</th>\n",
       "      <td>...</td>\n",
       "      <td>...</td>\n",
       "      <td>...</td>\n",
       "    </tr>\n",
       "    <tr>\n",
       "      <th>288967</th>\n",
       "      <td>State of Siege: Temple Attack</td>\n",
       "      <td>Action|Drama</td>\n",
       "      <td>2021</td>\n",
       "    </tr>\n",
       "    <tr>\n",
       "      <th>288971</th>\n",
       "      <td>Ouija Japan</td>\n",
       "      <td>Action|Horror</td>\n",
       "      <td>2021</td>\n",
       "    </tr>\n",
       "    <tr>\n",
       "      <th>288975</th>\n",
       "      <td>The Men Who Made the Movies: Howard Hawks</td>\n",
       "      <td>Documentary</td>\n",
       "      <td>1973</td>\n",
       "    </tr>\n",
       "    <tr>\n",
       "      <th>288977</th>\n",
       "      <td>Skinford: Death Sentence</td>\n",
       "      <td>Crime|Thriller</td>\n",
       "      <td>2023</td>\n",
       "    </tr>\n",
       "    <tr>\n",
       "      <th>288983</th>\n",
       "      <td>UNZIPPED: An Autopsy of American Inequality</td>\n",
       "      <td>Documentary</td>\n",
       "      <td>2021</td>\n",
       "    </tr>\n",
       "  </tbody>\n",
       "</table>\n",
       "<p>85917 rows × 3 columns</p>\n",
       "</div>"
      ],
      "text/plain": [
       "                                                title  \\\n",
       "movieId                                                 \n",
       "1                                          Toy Story    \n",
       "2                                            Jumanji    \n",
       "3                                   Grumpier Old Men    \n",
       "4                                  Waiting to Exhale    \n",
       "5                        Father of the Bride Part II    \n",
       "...                                               ...   \n",
       "288967                 State of Siege: Temple Attack    \n",
       "288971                                   Ouija Japan    \n",
       "288975     The Men Who Made the Movies: Howard Hawks    \n",
       "288977                      Skinford: Death Sentence    \n",
       "288983   UNZIPPED: An Autopsy of American Inequality    \n",
       "\n",
       "                                              genres  year  \n",
       "movieId                                                     \n",
       "1        Adventure|Animation|Children|Comedy|Fantasy  1995  \n",
       "2                         Adventure|Children|Fantasy  1995  \n",
       "3                                     Comedy|Romance  1995  \n",
       "4                               Comedy|Drama|Romance  1995  \n",
       "5                                             Comedy  1995  \n",
       "...                                              ...   ...  \n",
       "288967                                  Action|Drama  2021  \n",
       "288971                                 Action|Horror  2021  \n",
       "288975                                   Documentary  1973  \n",
       "288977                                Crime|Thriller  2023  \n",
       "288983                                   Documentary  2021  \n",
       "\n",
       "[85917 rows x 3 columns]"
      ]
     },
     "execution_count": 3,
     "metadata": {},
     "output_type": "execute_result"
    }
   ],
   "source": [
    "# Relação entre id do filme e seu título\n",
    "movies = pd.read_csv(data_root + \"movies.csv\")\n",
    "\n",
    "# Conv para string\n",
    "movies['title'] = movies['title'].astype('string')\n",
    "\n",
    "# Removendo espaços nas extremidades\n",
    "movies['title'] = movies['title'].str.strip()\n",
    "\n",
    "# Função para buscar padrão de ano\n",
    "import re\n",
    "f = lambda title : True if (re.findall(r\"\\([0-9]{4}\\)$\", title)) else False\n",
    "\n",
    "# Separando filmes que têm ano no título\n",
    "selec = movies[\"title\"].map(f)\n",
    "movies = movies[selec]\n",
    "\n",
    "# Separando conteúdo em coluna título e ano\n",
    "movies[\"year\"] = movies[\"title\"].map(lambda title : title[-5:-1]).astype(int)\n",
    "movies[\"title\"] = movies[\"title\"].map(lambda title : title[:-6])\n",
    "\n",
    "# Mudando index\n",
    "movies = movies.set_index(\"movieId\")\n",
    "\n",
    "# Exibindo\n",
    "movies"
   ]
  },
  {
   "cell_type": "code",
   "execution_count": 4,
   "id": "565eec56",
   "metadata": {
    "tags": []
   },
   "outputs": [
    {
     "data": {
      "text/html": [
       "<div>\n",
       "<style scoped>\n",
       "    .dataframe tbody tr th:only-of-type {\n",
       "        vertical-align: middle;\n",
       "    }\n",
       "\n",
       "    .dataframe tbody tr th {\n",
       "        vertical-align: top;\n",
       "    }\n",
       "\n",
       "    .dataframe thead th {\n",
       "        text-align: right;\n",
       "    }\n",
       "</style>\n",
       "<table border=\"1\" class=\"dataframe\">\n",
       "  <thead>\n",
       "    <tr style=\"text-align: right;\">\n",
       "      <th></th>\n",
       "      <th>user</th>\n",
       "      <th>movieId</th>\n",
       "      <th>rating</th>\n",
       "      <th>time</th>\n",
       "    </tr>\n",
       "  </thead>\n",
       "  <tbody>\n",
       "    <tr>\n",
       "      <th>0</th>\n",
       "      <td>1</td>\n",
       "      <td>1</td>\n",
       "      <td>4.0</td>\n",
       "      <td>1225734739</td>\n",
       "    </tr>\n",
       "    <tr>\n",
       "      <th>1</th>\n",
       "      <td>1</td>\n",
       "      <td>110</td>\n",
       "      <td>4.0</td>\n",
       "      <td>1225865086</td>\n",
       "    </tr>\n",
       "    <tr>\n",
       "      <th>2</th>\n",
       "      <td>1</td>\n",
       "      <td>158</td>\n",
       "      <td>4.0</td>\n",
       "      <td>1225733503</td>\n",
       "    </tr>\n",
       "    <tr>\n",
       "      <th>3</th>\n",
       "      <td>1</td>\n",
       "      <td>260</td>\n",
       "      <td>4.5</td>\n",
       "      <td>1225735204</td>\n",
       "    </tr>\n",
       "    <tr>\n",
       "      <th>4</th>\n",
       "      <td>1</td>\n",
       "      <td>356</td>\n",
       "      <td>5.0</td>\n",
       "      <td>1225735119</td>\n",
       "    </tr>\n",
       "    <tr>\n",
       "      <th>...</th>\n",
       "      <td>...</td>\n",
       "      <td>...</td>\n",
       "      <td>...</td>\n",
       "      <td>...</td>\n",
       "    </tr>\n",
       "    <tr>\n",
       "      <th>33832157</th>\n",
       "      <td>330975</td>\n",
       "      <td>8340</td>\n",
       "      <td>2.0</td>\n",
       "      <td>1091583256</td>\n",
       "    </tr>\n",
       "    <tr>\n",
       "      <th>33832158</th>\n",
       "      <td>330975</td>\n",
       "      <td>8493</td>\n",
       "      <td>2.5</td>\n",
       "      <td>1091585709</td>\n",
       "    </tr>\n",
       "    <tr>\n",
       "      <th>33832159</th>\n",
       "      <td>330975</td>\n",
       "      <td>8622</td>\n",
       "      <td>4.0</td>\n",
       "      <td>1091581777</td>\n",
       "    </tr>\n",
       "    <tr>\n",
       "      <th>33832160</th>\n",
       "      <td>330975</td>\n",
       "      <td>8665</td>\n",
       "      <td>3.0</td>\n",
       "      <td>1091581765</td>\n",
       "    </tr>\n",
       "    <tr>\n",
       "      <th>33832161</th>\n",
       "      <td>330975</td>\n",
       "      <td>8783</td>\n",
       "      <td>2.5</td>\n",
       "      <td>1091581799</td>\n",
       "    </tr>\n",
       "  </tbody>\n",
       "</table>\n",
       "<p>33832162 rows × 4 columns</p>\n",
       "</div>"
      ],
      "text/plain": [
       "            user  movieId  rating        time\n",
       "0              1        1     4.0  1225734739\n",
       "1              1      110     4.0  1225865086\n",
       "2              1      158     4.0  1225733503\n",
       "3              1      260     4.5  1225735204\n",
       "4              1      356     5.0  1225735119\n",
       "...          ...      ...     ...         ...\n",
       "33832157  330975     8340     2.0  1091583256\n",
       "33832158  330975     8493     2.5  1091585709\n",
       "33832159  330975     8622     4.0  1091581777\n",
       "33832160  330975     8665     3.0  1091581765\n",
       "33832161  330975     8783     2.5  1091581799\n",
       "\n",
       "[33832162 rows x 4 columns]"
      ]
     },
     "execution_count": 4,
     "metadata": {},
     "output_type": "execute_result"
    }
   ],
   "source": [
    "# Lendo dados, renomeando colunas e exibindo primeiros itens\n",
    "ratings = pd.read_csv(data_root + \"ratings.csv\")\n",
    "ratings.columns = [\"user\", \"movieId\", \"rating\", \"time\"]\n",
    "ratings"
   ]
  },
  {
   "cell_type": "code",
   "execution_count": 5,
   "id": "b3bef354-4a00-4974-8550-f974f570d38f",
   "metadata": {
    "tags": []
   },
   "outputs": [],
   "source": [
    "# Obtendo lista de todos os valores únicos de avaliação registrados\n",
    "aval_unique = list(ratings['rating'].unique())\n",
    "aval_unique.sort()"
   ]
  },
  {
   "cell_type": "code",
   "execution_count": 6,
   "id": "1604829f",
   "metadata": {
    "tags": []
   },
   "outputs": [
    {
     "name": "stdout",
     "output_type": "stream",
     "text": [
      "Os dados contém 33832162 avaliações, cada qual com 4 variáveis associadas.\n",
      "\n",
      "Essas variáveis são: identificação do usuário, identificação do filme, avaliação do filme pelo usuário, e registro do momento em que foi avaliado.\n",
      "\n",
      "Os valores possíveis para se avaliar os filmes são:\n",
      "\n",
      " 0.5, 1.0, 1.5, 2.0, 2.5, 3.0, 3.5, 4.0, 4.5, 5.0.\n"
     ]
    }
   ],
   "source": [
    "print(\"Os dados contém {} avaliações, cada qual com {} variáveis associadas.\".format(ratings.shape[0], ratings.shape[1]))\n",
    "\n",
    "print(\"\\nEssas variáveis são: identificação do usuário, identificação do filme, avaliação do filme pelo usuário, e registro do momento em que foi avaliado.\")\n",
    "\n",
    "print(\"\\nOs valores possíveis para se avaliar os filmes são:\\n\\n\", \", \".join([str(value) for value in aval_unique]) + \".\")"
   ]
  },
  {
   "cell_type": "markdown",
   "id": "2239a995-4eba-432d-ad94-e2ad464893ee",
   "metadata": {},
   "source": [
    "### Estatísticas gerais"
   ]
  },
  {
   "cell_type": "code",
   "execution_count": 7,
   "id": "c72c88f6-36f5-4975-8fe8-0eb9e821a3db",
   "metadata": {
    "tags": []
   },
   "outputs": [
    {
     "name": "stdout",
     "output_type": "stream",
     "text": [
      "A média de todas as avaliações, independente do filme, foi 3.543\n",
      "E a mediana dos mesmos dados, foi 4.0\n"
     ]
    }
   ],
   "source": [
    "print(\"A média de todas as avaliações, independente do filme, foi {:.3f}\".format(ratings[ 'rating'].mean()))\n",
    "print(\"E a mediana dos mesmos dados, foi\", ratings['rating'].median())"
   ]
  },
  {
   "cell_type": "markdown",
   "id": "00741568-9658-4afa-a4d5-4701d7438e2b",
   "metadata": {},
   "source": [
    "# Visualização da Frequência de cada Avaliação"
   ]
  },
  {
   "cell_type": "code",
   "execution_count": 8,
   "id": "a5370765",
   "metadata": {
    "tags": []
   },
   "outputs": [],
   "source": [
    "import seaborn as sns\n",
    "import matplotlib.pyplot as plt"
   ]
  },
  {
   "cell_type": "code",
   "execution_count": 9,
   "id": "6eb2abd6",
   "metadata": {
    "tags": []
   },
   "outputs": [
    {
     "data": {
      "text/plain": [
       "Text(0, 0.5, 'Frequência')"
      ]
     },
     "execution_count": 9,
     "metadata": {},
     "output_type": "execute_result"
    },
    {
     "data": {
      "image/png": "[encoded data removed]",
      "text/plain": [
       "<Figure size 640x480 with 1 Axes>"
      ]
     },
     "metadata": {},
     "output_type": "display_data"
    }
   ],
   "source": [
    "# Obtendo a frequência absoluta e plotando em um gráfico de barras\n",
    "abs_freq = ratings['rating'].value_counts()\n",
    "\n",
    "# Plotando\n",
    "fig, ax = plt.subplots()\n",
    "ax = sns.barplot(abs_freq, color = 'steelblue')\n",
    "\n",
    "# Nomes no gráfico\n",
    "ax.set_title(\"Frequência das ratings dadas pelos Usuários\", fontsize = 16)\n",
    "ax.set_xlabel('rating', fontsize = 13)\n",
    "ax.set_ylabel('Frequência', fontsize = 13)"
   ]
  },
  {
   "cell_type": "code",
   "execution_count": 10,
   "id": "996b7f36-28f2-42e3-abf4-aab81eff002a",
   "metadata": {
    "tags": []
   },
   "outputs": [
    {
     "data": {
      "text/plain": [
       "rating\n",
       "4.0    26.117027\n",
       "3.0    18.918874\n",
       "5.0    14.654405\n",
       "3.5    13.197504\n",
       "4.5     9.231024\n",
       "2.0     6.344531\n",
       "2.5     5.204317\n",
       "1.0     2.996099\n",
       "0.5     1.673869\n",
       "1.5     1.662350\n",
       "Name: proportion, dtype: float64"
      ]
     },
     "execution_count": 10,
     "metadata": {},
     "output_type": "execute_result"
    }
   ],
   "source": [
    "relat_freq = ratings['rating'].value_counts(normalize = True) * 100\n",
    "relat_freq"
   ]
  },
  {
   "cell_type": "code",
   "execution_count": 11,
   "id": "66207474-a2e5-4e3f-b194-90ec352db312",
   "metadata": {
    "tags": []
   },
   "outputs": [
    {
     "name": "stdout",
     "output_type": "stream",
     "text": [
      "A frequência de ratings menores que 2.0 é 6.33 %\n"
     ]
    }
   ],
   "source": [
    "print(\"A frequência de ratings menores que 2.0 é {:.2f} %\".format(sum(relat_freq[rating] for rating in [0.5, 1.0, 1.5])))"
   ]
  },
  {
   "cell_type": "markdown",
   "id": "d75328e2-0638-4ef9-a2ee-ac9f32d9698c",
   "metadata": {},
   "source": [
    "## Conclusões do Gráfico de Barras\n",
    "\n",
    "Pela visualização, podemos ratingr, que 4.0 foi a rating mais frequentemente dada pelos usuários, e que em segundo lugar, está a avaliação 3.0. Observamos que poucas avaliações abaixo de 2.0 foram dadas. \n",
    "\n",
    "Olhando a relação das frequências relativa, vemos também que apesar de 5.0 ser a rating máxima que um filme pode receber, ela foi a 3ª avaliação mais frequente, correspondendo à 13.1% de todas as avaliações.\n",
    "\n",
    "Parece haver um preferência por ratings inteiras. Vamos avaliar isso melhor a seguir."
   ]
  },
  {
   "cell_type": "markdown",
   "id": "4c6d4080-6722-4fda-9995-b0a1ae9db830",
   "metadata": {},
   "source": [
    "## Inteiras vs. Fracionárias"
   ]
  },
  {
   "cell_type": "code",
   "execution_count": 12,
   "id": "f2b9a1ad-48a8-4969-a55b-7f066f364abd",
   "metadata": {
    "tags": []
   },
   "outputs": [
    {
     "data": {
      "text/plain": [
       "Text(0.5, 1.0, 'ratings Fracionárias')"
      ]
     },
     "execution_count": 12,
     "metadata": {},
     "output_type": "execute_result"
    },
    {
     "data": {
      "image/png": "[encoded data removed]",
      "text/plain": [
       "<Figure size 1000x500 with 2 Axes>"
      ]
     },
     "metadata": {},
     "output_type": "display_data"
    }
   ],
   "source": [
    "# Figura e eixos\n",
    "fig, (ax1, ax2) = plt.subplots(1,2, figsize = (10,5))\n",
    "\n",
    "# Limites dos eixos\n",
    "ax1.set_ylim(0, 1e7)\n",
    "ax2.set_ylim(0, 1e7)\n",
    "\n",
    "# Plot inteiros\n",
    "sns.barplot(abs_freq, color = 'steelblue', order = [1.0, 2.0, 3.0, 4.0, 5.0], ax = ax1)\n",
    "\n",
    "# Plot fracionários\n",
    "sns.barplot(abs_freq, color = 'steelblue', order = [0.5, 1.5, 2.5, 3.5, 4.5], ax = ax2)\n",
    "\n",
    "# Títulos\n",
    "ax1.set_title(\"ratings Inteiras\", fontsize = 16)\n",
    "ax2.set_title(\"ratings Fracionárias\", fontsize = 16)"
   ]
  },
  {
   "cell_type": "markdown",
   "id": "d0be056b-4266-4923-a79c-114992c3a51b",
   "metadata": {},
   "source": [
    "Ao plotarmos lado a lado, na mesma escala, as frequências das ratings inteiras e fracionárias, vemos que as duas tem um comportamento muito semelhante. Porém, ao mesmo tempo, a frequência das ratings fracionárias parecem bem menores.\n",
    "\n",
    "Vamos calcular a frequência de uma em relação a outra:"
   ]
  },
  {
   "cell_type": "code",
   "execution_count": 13,
   "id": "35e51825-8cc6-47dc-a9f1-de3f1e6ff7ba",
   "metadata": {
    "tags": []
   },
   "outputs": [
    {
     "name": "stdout",
     "output_type": "stream",
     "text": [
      "A ratings fracionárias são 31.0 % de todas as ratings, de forma que as ratings inteiras são 2.2 vezes mais frequentes que as fracionárias.\n"
     ]
    }
   ],
   "source": [
    "relat_frac_freq = sum(relat_freq[rating] for rating in [0.5, 1.5, 2.5, 3.5, 4.5])\n",
    "relat_int_freq  = 100 - relat_frac_freq\n",
    "\n",
    "print(f\"A ratings fracionárias são {relat_frac_freq:.1f} % de todas as ratings, de forma que as ratings inteiras são {relat_int_freq / relat_frac_freq:.1f} vezes mais frequentes que as fracionárias.\")"
   ]
  },
  {
   "cell_type": "markdown",
   "id": "a4ff1fc1-b6d9-42a3-98f3-f033cdbeb32f",
   "metadata": {},
   "source": [
    "# Avaliações por filme"
   ]
  },
  {
   "cell_type": "markdown",
   "id": "d0ca2734-5e8d-435a-a3b2-f33f211dd41b",
   "metadata": {
    "tags": []
   },
   "source": [
    "## Múltiplas avaliações recebidas por um filme"
   ]
  },
  {
   "cell_type": "code",
   "execution_count": 14,
   "id": "b06bc210-65ff-4662-a695-b1fb0be1126a",
   "metadata": {
    "tags": []
   },
   "outputs": [
    {
     "data": {
      "text/html": [
       "<div>\n",
       "<style scoped>\n",
       "    .dataframe tbody tr th:only-of-type {\n",
       "        vertical-align: middle;\n",
       "    }\n",
       "\n",
       "    .dataframe tbody tr th {\n",
       "        vertical-align: top;\n",
       "    }\n",
       "\n",
       "    .dataframe thead th {\n",
       "        text-align: right;\n",
       "    }\n",
       "</style>\n",
       "<table border=\"1\" class=\"dataframe\">\n",
       "  <thead>\n",
       "    <tr style=\"text-align: right;\">\n",
       "      <th></th>\n",
       "      <th>user</th>\n",
       "      <th>movieId</th>\n",
       "      <th>rating</th>\n",
       "      <th>time</th>\n",
       "    </tr>\n",
       "  </thead>\n",
       "  <tbody>\n",
       "    <tr>\n",
       "      <th>0</th>\n",
       "      <td>1</td>\n",
       "      <td>1</td>\n",
       "      <td>4.0</td>\n",
       "      <td>1225734739</td>\n",
       "    </tr>\n",
       "    <tr>\n",
       "      <th>62</th>\n",
       "      <td>2</td>\n",
       "      <td>1</td>\n",
       "      <td>5.0</td>\n",
       "      <td>835815971</td>\n",
       "    </tr>\n",
       "    <tr>\n",
       "      <th>304</th>\n",
       "      <td>7</td>\n",
       "      <td>1</td>\n",
       "      <td>4.0</td>\n",
       "      <td>974518024</td>\n",
       "    </tr>\n",
       "    <tr>\n",
       "      <th>653</th>\n",
       "      <td>10</td>\n",
       "      <td>1</td>\n",
       "      <td>3.0</td>\n",
       "      <td>1430666394</td>\n",
       "    </tr>\n",
       "    <tr>\n",
       "      <th>852</th>\n",
       "      <td>12</td>\n",
       "      <td>1</td>\n",
       "      <td>5.0</td>\n",
       "      <td>862500738</td>\n",
       "    </tr>\n",
       "    <tr>\n",
       "      <th>952</th>\n",
       "      <td>14</td>\n",
       "      <td>1</td>\n",
       "      <td>2.5</td>\n",
       "      <td>1311533061</td>\n",
       "    </tr>\n",
       "    <tr>\n",
       "      <th>1242</th>\n",
       "      <td>21</td>\n",
       "      <td>1</td>\n",
       "      <td>3.0</td>\n",
       "      <td>1172695347</td>\n",
       "    </tr>\n",
       "  </tbody>\n",
       "</table>\n",
       "</div>"
      ],
      "text/plain": [
       "      user  movieId  rating        time\n",
       "0        1        1     4.0  1225734739\n",
       "62       2        1     5.0   835815971\n",
       "304      7        1     4.0   974518024\n",
       "653     10        1     3.0  1430666394\n",
       "852     12        1     5.0   862500738\n",
       "952     14        1     2.5  1311533061\n",
       "1242    21        1     3.0  1172695347"
      ]
     },
     "execution_count": 14,
     "metadata": {},
     "output_type": "execute_result"
    }
   ],
   "source": [
    "# Vizualização todas as avalizações dadas ao filme 1\n",
    "ratings.query(\"movieId==1\").head(7)"
   ]
  },
  {
   "cell_type": "markdown",
   "id": "aa19dd81-4df9-4570-89c0-01b6d559555e",
   "metadata": {},
   "source": [
    "# Média de cada filme"
   ]
  },
  {
   "cell_type": "markdown",
   "id": "7f4254c1-d8ba-4340-befb-739fe6febc4f",
   "metadata": {},
   "source": [
    "Calculamos aqui, a média das ratings de cada filme dos dados."
   ]
  },
  {
   "cell_type": "code",
   "execution_count": 15,
   "id": "a9153467-336c-4405-ab56-e1ff23002843",
   "metadata": {
    "tags": []
   },
   "outputs": [],
   "source": [
    "# Agrupando os dados por filmes (todas as avaliações de cada filme em um grupo)\n",
    "movie_grouped_ratings = ratings.groupby(\"movieId\")"
   ]
  },
  {
   "cell_type": "code",
   "execution_count": 16,
   "id": "01ea0abd-c93b-4b4a-a90e-216e0fef59c4",
   "metadata": {
    "tags": []
   },
   "outputs": [
    {
     "data": {
      "text/plain": [
       "movieId\n",
       "1         3.893508\n",
       "2         3.278179\n",
       "3         3.171271\n",
       "4         2.868395\n",
       "5         3.076957\n",
       "            ...   \n",
       "288967    3.500000\n",
       "288971    0.500000\n",
       "288975    4.000000\n",
       "288977    3.000000\n",
       "288983    3.000000\n",
       "Name: rating, Length: 83239, dtype: float64"
      ]
     },
     "execution_count": 16,
     "metadata": {},
     "output_type": "execute_result"
    }
   ],
   "source": [
    "# Calculando a média de todos os filmes\n",
    "movies_means = movie_grouped_ratings.mean()['rating']\n",
    "movies_means"
   ]
  },
  {
   "cell_type": "markdown",
   "id": "c34d0a26-4b47-4698-bc87-080a046ec60b",
   "metadata": {
    "tags": []
   },
   "source": [
    "### Estatísticas dos dados"
   ]
  },
  {
   "cell_type": "code",
   "execution_count": 17,
   "id": "9e3e4d7d-11ec-4885-aed2-48fe3603c812",
   "metadata": {
    "tags": []
   },
   "outputs": [
    {
     "data": {
      "text/plain": [
       "count    83239.000000\n",
       "mean         3.012706\n",
       "std          0.790872\n",
       "min          0.500000\n",
       "25%          2.571429\n",
       "50%          3.083333\n",
       "75%          3.500000\n",
       "max          5.000000\n",
       "Name: rating, dtype: float64"
      ]
     },
     "execution_count": 17,
     "metadata": {},
     "output_type": "execute_result"
    }
   ],
   "source": [
    "movies_means.describe()"
   ]
  },
  {
   "cell_type": "markdown",
   "id": "2c7621da-aab8-4248-9260-ed5b1c743dfb",
   "metadata": {},
   "source": [
    "# Plotando os dados de média por filme"
   ]
  },
  {
   "cell_type": "markdown",
   "id": "22738ab1-159d-4568-b572-a511172ba34a",
   "metadata": {},
   "source": [
    "## Boxplot"
   ]
  },
  {
   "cell_type": "code",
   "execution_count": 18,
   "id": "5f8a9461-1c18-4d15-aa41-83acbc018182",
   "metadata": {
    "tags": []
   },
   "outputs": [
    {
     "data": {
      "text/plain": [
       "Text(0.5, 0, 'Média dos filmes')"
      ]
     },
     "execution_count": 18,
     "metadata": {},
     "output_type": "execute_result"
    },
    {
     "data": {
      "image/png": "[encoded data removed]",
      "text/plain": [
       "<Figure size 640x480 with 1 Axes>"
      ]
     },
     "metadata": {},
     "output_type": "display_data"
    }
   ],
   "source": [
    "ax = sns.boxplot(x = movies_means, width = 0.5, whis=(0,100))\n",
    "ticks = [0.0, 0.5, 1.0, 1.5, 2.0, 2.5, 3.0, 3.5, 4.0, 4.5, 5.0]\n",
    "ax.set_xticks(ticks)\n",
    "ax.set_title(\"Distribuição das médias dos filmes\", fontsize = 16)\n",
    "ax.set_xlabel(\"Média dos filmes\")"
   ]
  },
  {
   "cell_type": "markdown",
   "id": "f442c48a-7ce5-4360-bc90-bcc85b579af9",
   "metadata": {},
   "source": [
    "### Conclusão boxplot"
   ]
  },
  {
   "cell_type": "markdown",
   "id": "125202a4-369f-4a60-96d8-6ade90434bff",
   "metadata": {},
   "source": [
    "Pela visualização de boxplot gerada sobre as médias de avaliações de filmes, podemos ver pela pequena distância entre o primeiro e terceiro quartil, que as ratings estão muito concentradas entre aproximadamente 2.6 e 3.5, enquanto os outros intervalos estão espalhados em intervalos maiores.\n",
    "\n",
    "Porém de toda forma, a distribuição ainda está um tanto deslocadas para a direita, o que indica uma assimetria à esquerda, de forma que os dados têm mais volume nos valores mais altos, e uma calma mais esticada à esquerda."
   ]
  },
  {
   "cell_type": "markdown",
   "id": "2f7c0369-cd4d-4942-9685-7aeef1df9fed",
   "metadata": {},
   "source": [
    "## Histograma"
   ]
  },
  {
   "cell_type": "code",
   "execution_count": 19,
   "id": "f67cf0bb-1e18-494d-a0ef-0a7274a8aacf",
   "metadata": {
    "tags": []
   },
   "outputs": [
    {
     "data": {
      "text/plain": [
       "<Axes: xlabel='rating', ylabel='Count'>"
      ]
     },
     "execution_count": 19,
     "metadata": {},
     "output_type": "execute_result"
    },
    {
     "data": {
      "image/png": "[encoded data removed]",
      "text/plain": [
       "<Figure size 640x480 with 1 Axes>"
      ]
     },
     "metadata": {},
     "output_type": "display_data"
    }
   ],
   "source": [
    "sns.histplot(movies_means, bins = [0.25, 0.75, 1.25, 1.75, 2.25, 2.75, 3.25, 3.75, 4.25, 4.75, 5.25] )"
   ]
  },
  {
   "cell_type": "markdown",
   "id": "514bdef5-9903-45dc-9a9c-dae09896c38a",
   "metadata": {},
   "source": [
    "Observamos que poucos filmes têm avaliações médias acima de 4.25, apesar de muitas avaliações 5.0 serem individualmente dadas. Vamos calcular quantos são."
   ]
  },
  {
   "cell_type": "code",
   "execution_count": 27,
   "id": "42c12245-d4c7-486e-8731-1e22c9463166",
   "metadata": {},
   "outputs": [
    {
     "name": "stdout",
     "output_type": "stream",
     "text": [
      "A frequência de filmes com avaliação média maior que 4.25, é 4.71 %\n"
     ]
    }
   ],
   "source": [
    "high_ratings_freq = (movies_means[movies_means > 4.0].shape[0] / movies_means.shape[0]) * 100\n",
    "\n",
    "print(\"A frequência de filmes com avaliação média maior que 4.25, é {:.2f} %\".format(high_ratings_freq))"
   ]
  },
  {
   "cell_type": "markdown",
   "id": "9d164db7-29f6-4ae1-9cfc-ac5daf5ab877",
   "metadata": {},
   "source": [
    "Vamos investigar isso mais a fundo:"
   ]
  },
  {
   "cell_type": "markdown",
   "id": "115ad63e-0533-4ced-bf01-ed584ee7a31f",
   "metadata": {},
   "source": [
    "## Filmes com maior frequencia relativa de avaliações altas"
   ]
  },
  {
   "cell_type": "code",
   "execution_count": 34,
   "id": "417b7067-1647-414f-849a-03bdb1e491e4",
   "metadata": {
    "tags": []
   },
   "outputs": [],
   "source": [
    "# Montando o dataframe\n",
    "df = pd.DataFrame()\n",
    "df.index = movies_means.index\n",
    "df['mean_rating'] = movies_means\n",
    "df['vote_counts'] = ratings.groupby(\"movieId\")[\"movieId\"].value_counts()\n",
    "\n",
    "# Filmes populares\n",
    "vote_counts = ratings['movieId'].value_counts()"
   ]
  },
  {
   "cell_type": "code",
   "execution_count": 36,
   "id": "0671e341-5f4a-427f-a015-6f1b7e2f8ef6",
   "metadata": {
    "tags": []
   },
   "outputs": [
    {
     "ename": "KeyError",
     "evalue": "'5_relat_freq'",
     "output_type": "error",
     "traceback": [
      "\u001b[0;31m---------------------------------------------------------------------------\u001b[0m",
      "\u001b[0;31mKeyError\u001b[0m                                  Traceback (most recent call last)",
      "\u001b[0;32m/tmp/ipykernel_30609/2908520725.py\u001b[0m in \u001b[0;36m?\u001b[0;34m()\u001b[0m\n\u001b[1;32m      1\u001b[0m \u001b[0;31m# Inserindo no DataFrame\u001b[0m\u001b[0;34m\u001b[0m\u001b[0;34m\u001b[0m\u001b[0m\n\u001b[0;32m----> 2\u001b[0;31m \u001b[0mdf_copy\u001b[0m \u001b[0;34m=\u001b[0m \u001b[0mpd\u001b[0m\u001b[0;34m.\u001b[0m\u001b[0mDataFrame\u001b[0m\u001b[0;34m(\u001b[0m\u001b[0mdf\u001b[0m\u001b[0;34m.\u001b[0m\u001b[0mquery\u001b[0m\u001b[0;34m(\u001b[0m\u001b[0;34m\"vote_counts > 50\"\u001b[0m\u001b[0;34m)\u001b[0m\u001b[0;34m.\u001b[0m\u001b[0msort_values\u001b[0m\u001b[0;34m(\u001b[0m\u001b[0;34m'5_relat_freq'\u001b[0m\u001b[0;34m,\u001b[0m \u001b[0mascending\u001b[0m\u001b[0;34m=\u001b[0m\u001b[0;32mFalse\u001b[0m\u001b[0;34m)\u001b[0m\u001b[0;34m)\u001b[0m\u001b[0;34m\u001b[0m\u001b[0;34m\u001b[0m\u001b[0m\n\u001b[0m\u001b[1;32m      3\u001b[0m \u001b[0mdf_copy\u001b[0m \u001b[0;34m=\u001b[0m \u001b[0mpd\u001b[0m\u001b[0;34m.\u001b[0m\u001b[0mconcat\u001b[0m\u001b[0;34m(\u001b[0m\u001b[0;34m[\u001b[0m\u001b[0mdf_copy\u001b[0m\u001b[0;34m,\u001b[0m \u001b[0mfreq_relat_5\u001b[0m\u001b[0;34m]\u001b[0m\u001b[0;34m,\u001b[0m \u001b[0maxis\u001b[0m\u001b[0;34m=\u001b[0m\u001b[0;36m1\u001b[0m\u001b[0;34m)\u001b[0m\u001b[0;34m\u001b[0m\u001b[0;34m\u001b[0m\u001b[0m\n\u001b[1;32m      4\u001b[0m \u001b[0mdf_copy\u001b[0m\u001b[0;34m.\u001b[0m\u001b[0mindex\u001b[0m\u001b[0;34m.\u001b[0m\u001b[0mname\u001b[0m \u001b[0;34m=\u001b[0m \u001b[0;34m'movieId'\u001b[0m\u001b[0;34m\u001b[0m\u001b[0;34m\u001b[0m\u001b[0m\n\u001b[1;32m      5\u001b[0m \u001b[0;34m\u001b[0m\u001b[0m\n",
      "\u001b[0;32m~/miniforge3/envs/data/lib/python3.12/site-packages/pandas/core/frame.py\u001b[0m in \u001b[0;36m?\u001b[0;34m(self, by, axis, ascending, inplace, kind, na_position, ignore_index, key)\u001b[0m\n\u001b[1;32m   7185\u001b[0m             \u001b[0;34m)\u001b[0m\u001b[0;34m\u001b[0m\u001b[0;34m\u001b[0m\u001b[0m\n\u001b[1;32m   7186\u001b[0m         \u001b[0;32melif\u001b[0m \u001b[0mlen\u001b[0m\u001b[0;34m(\u001b[0m\u001b[0mby\u001b[0m\u001b[0;34m)\u001b[0m\u001b[0;34m:\u001b[0m\u001b[0;34m\u001b[0m\u001b[0;34m\u001b[0m\u001b[0m\n\u001b[1;32m   7187\u001b[0m             \u001b[0;31m# len(by) == 1\u001b[0m\u001b[0;34m\u001b[0m\u001b[0;34m\u001b[0m\u001b[0m\n\u001b[1;32m   7188\u001b[0m \u001b[0;34m\u001b[0m\u001b[0m\n\u001b[0;32m-> 7189\u001b[0;31m             \u001b[0mk\u001b[0m \u001b[0;34m=\u001b[0m \u001b[0mself\u001b[0m\u001b[0;34m.\u001b[0m\u001b[0m_get_label_or_level_values\u001b[0m\u001b[0;34m(\u001b[0m\u001b[0mby\u001b[0m\u001b[0;34m[\u001b[0m\u001b[0;36m0\u001b[0m\u001b[0;34m]\u001b[0m\u001b[0;34m,\u001b[0m \u001b[0maxis\u001b[0m\u001b[0;34m=\u001b[0m\u001b[0maxis\u001b[0m\u001b[0;34m)\u001b[0m\u001b[0;34m\u001b[0m\u001b[0;34m\u001b[0m\u001b[0m\n\u001b[0m\u001b[1;32m   7190\u001b[0m \u001b[0;34m\u001b[0m\u001b[0m\n\u001b[1;32m   7191\u001b[0m             \u001b[0;31m# need to rewrap column in Series to apply key function\u001b[0m\u001b[0;34m\u001b[0m\u001b[0;34m\u001b[0m\u001b[0m\n\u001b[1;32m   7192\u001b[0m             \u001b[0;32mif\u001b[0m \u001b[0mkey\u001b[0m \u001b[0;32mis\u001b[0m \u001b[0;32mnot\u001b[0m \u001b[0;32mNone\u001b[0m\u001b[0;34m:\u001b[0m\u001b[0;34m\u001b[0m\u001b[0;34m\u001b[0m\u001b[0m\n",
      "\u001b[0;32m~/miniforge3/envs/data/lib/python3.12/site-packages/pandas/core/generic.py\u001b[0m in \u001b[0;36m?\u001b[0;34m(self, key, axis)\u001b[0m\n\u001b[1;32m   1907\u001b[0m             \u001b[0mvalues\u001b[0m \u001b[0;34m=\u001b[0m \u001b[0mself\u001b[0m\u001b[0;34m.\u001b[0m\u001b[0mxs\u001b[0m\u001b[0;34m(\u001b[0m\u001b[0mkey\u001b[0m\u001b[0;34m,\u001b[0m \u001b[0maxis\u001b[0m\u001b[0;34m=\u001b[0m\u001b[0mother_axes\u001b[0m\u001b[0;34m[\u001b[0m\u001b[0;36m0\u001b[0m\u001b[0;34m]\u001b[0m\u001b[0;34m)\u001b[0m\u001b[0;34m.\u001b[0m\u001b[0m_values\u001b[0m\u001b[0;34m\u001b[0m\u001b[0;34m\u001b[0m\u001b[0m\n\u001b[1;32m   1908\u001b[0m         \u001b[0;32melif\u001b[0m \u001b[0mself\u001b[0m\u001b[0;34m.\u001b[0m\u001b[0m_is_level_reference\u001b[0m\u001b[0;34m(\u001b[0m\u001b[0mkey\u001b[0m\u001b[0;34m,\u001b[0m \u001b[0maxis\u001b[0m\u001b[0;34m=\u001b[0m\u001b[0maxis\u001b[0m\u001b[0;34m)\u001b[0m\u001b[0;34m:\u001b[0m\u001b[0;34m\u001b[0m\u001b[0;34m\u001b[0m\u001b[0m\n\u001b[1;32m   1909\u001b[0m             \u001b[0mvalues\u001b[0m \u001b[0;34m=\u001b[0m \u001b[0mself\u001b[0m\u001b[0;34m.\u001b[0m\u001b[0maxes\u001b[0m\u001b[0;34m[\u001b[0m\u001b[0maxis\u001b[0m\u001b[0;34m]\u001b[0m\u001b[0;34m.\u001b[0m\u001b[0mget_level_values\u001b[0m\u001b[0;34m(\u001b[0m\u001b[0mkey\u001b[0m\u001b[0;34m)\u001b[0m\u001b[0;34m.\u001b[0m\u001b[0m_values\u001b[0m\u001b[0;34m\u001b[0m\u001b[0;34m\u001b[0m\u001b[0m\n\u001b[1;32m   1910\u001b[0m         \u001b[0;32melse\u001b[0m\u001b[0;34m:\u001b[0m\u001b[0;34m\u001b[0m\u001b[0;34m\u001b[0m\u001b[0m\n\u001b[0;32m-> 1911\u001b[0;31m             \u001b[0;32mraise\u001b[0m \u001b[0mKeyError\u001b[0m\u001b[0;34m(\u001b[0m\u001b[0mkey\u001b[0m\u001b[0;34m)\u001b[0m\u001b[0;34m\u001b[0m\u001b[0;34m\u001b[0m\u001b[0m\n\u001b[0m\u001b[1;32m   1912\u001b[0m \u001b[0;34m\u001b[0m\u001b[0m\n\u001b[1;32m   1913\u001b[0m         \u001b[0;31m# Check for duplicates\u001b[0m\u001b[0;34m\u001b[0m\u001b[0;34m\u001b[0m\u001b[0m\n\u001b[1;32m   1914\u001b[0m         \u001b[0;32mif\u001b[0m \u001b[0mvalues\u001b[0m\u001b[0;34m.\u001b[0m\u001b[0mndim\u001b[0m \u001b[0;34m>\u001b[0m \u001b[0;36m1\u001b[0m\u001b[0;34m:\u001b[0m\u001b[0;34m\u001b[0m\u001b[0;34m\u001b[0m\u001b[0m\n",
      "\u001b[0;31mKeyError\u001b[0m: '5_relat_freq'"
     ]
    }
   ],
   "source": [
    "# Inserindo no DataFrame\n",
    "df_copy = pd.DataFrame(df.query(\"vote_counts > 50\").sort_values('5_relat_freq', ascending=False))\n",
    "df_copy = pd.concat([df_copy, freq_relat_5], axis=1)\n",
    "df_copy.index.name = 'movieId'\n",
    "\n",
    "# Vizualização\n",
    "ax = sns.scatterplot(data=df_copy, x=\"vote_counts\", y=\"5_relat_freq\")\n",
    "ax.set_title(\"Taxa de avaliações altas x Contagem de avaliações\", fontsize=16)"
   ]
  },
  {
   "cell_type": "markdown",
   "id": "3ab5a337-8482-4572-8d0b-16eee1c4abcf",
   "metadata": {},
   "source": [
    "Se chamarmos de avaliações altas as avaliações de 4.5 e 5.0 e avaliarmos a taxa de avaliações altas sobre o total, podemos ver que são raros os casos de filmes minimamente conhecidos tem a grande maioria das avalições altas. Ou seja, mesmo que um filme receba muitas avaliações altas, esse valor tende a se equilibra com avaliações menores."
   ]
  },
  {
   "cell_type": "markdown",
   "id": "dd3e8d13-50fd-4c7d-89c7-1c9baff12eea",
   "metadata": {},
   "source": [
    "## Scatterplot (Nota x Quantidade de avaliações)"
   ]
  },
  {
   "cell_type": "code",
   "execution_count": null,
   "id": "667bae2c-afaf-431b-9ac9-03e669301ba9",
   "metadata": {
    "tags": []
   },
   "outputs": [],
   "source": [
    "# Gráfico\n",
    "fig, ax = plt.subplots(figsize = (8,5))\n",
    "sns.scatterplot(data = df.query('vote_counts > 0 '), x = 'mean_rating', y = 'vote_counts', size = 1, ax = ax)\n",
    "\n",
    "# Nomes no gráfico\n",
    "ax.set_title(\"Relação entre Número de Votos e Nota para um filme\", fontsize = 16)\n",
    "ax.set_xlabel(\"Nota\", fontsize = 13)\n",
    "ax.set_ylabel(\"Quantidade de Votos\", fontsize = 13)"
   ]
  },
  {
   "cell_type": "markdown",
   "id": "9b5e1631-dfa7-4ea2-9811-f392314a1290",
   "metadata": {
    "tags": []
   },
   "source": [
    "### Filmes que têm grande quantidade de votos, tendem a ter notas mais altas\n",
    "\n",
    "Observamos, que quanto maior a quantidade de votos um filme tem, é mais comum que o filme seja bem avaliado. Isso provavelmente vem do fato, que filmes de alta qualidade, tendem a se tornarem mais populares, de forma que mais pessoas os assistam e os avaliem. Em outras palavras, é improvável um filme que é amplamente considerado \"ruim\", angariar um grande público."
   ]
  },
  {
   "cell_type": "markdown",
   "id": "839a9f84-8132-424e-aab2-1253026e420d",
   "metadata": {},
   "source": [
    "## Filmes perto do vértice"
   ]
  },
  {
   "cell_type": "code",
   "execution_count": null,
   "id": "c9709643-6b79-4ef5-a7f0-beaa7e4ae712",
   "metadata": {
    "tags": []
   },
   "outputs": [],
   "source": [
    "# Adicionando nome e ano \n",
    "df_copy = pd.concat([df,  movies], axis = 1)\n",
    "\n",
    "# Coluna de produto (num de votos * rating média)\n",
    "df_copy['produto'] = df_copy['vote_counts'] * df_copy['mean_rating']\n",
    "\n",
    "# Exibir ordenando pelo produto\n",
    "df_copy.sort_values('produto', ascending = False).head(5)"
   ]
  },
  {
   "cell_type": "code",
   "execution_count": null,
   "id": "74b461db-072b-4291-87be-3aaa1c271967",
   "metadata": {
    "tags": []
   },
   "outputs": [],
   "source": [
    "''' Como removemos alguns filmes do dataframe \"filmes\", ao juntarmos ele com o dataframe filmes_pop2,\n",
    "    precisamos verificar e remover quaisquer filmes deste caso, para não ficarmos com dados incompletos '''\n",
    "\n",
    "# Selecionando linhas com filmes populares\n",
    "selec = filmes['movieId'].isin(filmes_pop)\n",
    "nome_ano_pop = filmes[selec].set_index('movieId')[['title', 'ano']]\n",
    "\n",
    "# Verificamos ao somar a series resultante do inverso do isin\n",
    "# Que todos os filmes de um dataframe estão no outro\n",
    "(~df_pop2.index.isin(nome_ano_pop.index)).sum()"
   ]
  },
  {
   "cell_type": "markdown",
   "id": "3e0bdab6-e84a-419e-a238-f7d5db119a43",
   "metadata": {},
   "source": [
    "## Limite de rating com mais de 50 votos"
   ]
  },
  {
   "cell_type": "code",
   "execution_count": null,
   "id": "577e4cbb-1316-406d-b27e-4f77acefad09",
   "metadata": {
    "tags": []
   },
   "outputs": [],
   "source": [
    "df_pop2.query(\"qtde_votos > 50\").query(\"rating_media > 4.2\")"
   ]
  },
  {
   "cell_type": "markdown",
   "id": "987ba292-3eba-460e-be79-76f7f67a5f73",
   "metadata": {},
   "source": [
    "Ao mesmo tempo, quando um filme alcança uma quantidade maior de votos, é muito difícil que ele ultrapasse muito o limite de 4.2 na avaliação. Isso provelmente vem do fato, de que um filme não muito popular, pode atingir um nicho de pessoas particularmente interessadas naquele tipo de filme, e a maioria delas avaliar muito bem o filme. Mas ao atingir um público razoável, é muito difícil que o filme vá agradar a todos, impedindo assim, que um filme popular, atinja ratings muito altas."
   ]
  },
  {
   "cell_type": "markdown",
   "id": "5cd15faa-19cc-4999-8f82-6ee9a7ece213",
   "metadata": {},
   "source": [
    "## Dispersão de ratings por Filmes"
   ]
  },
  {
   "cell_type": "code",
   "execution_count": null,
   "id": "908aeb95-297f-494b-9c4a-8b7dbe7ea40b",
   "metadata": {
    "tags": []
   },
   "outputs": [],
   "source": [
    "#####\n",
    "pd.set_option('display.max_rows', 30)\n",
    "#####\n",
    "\n",
    "# Dados usados\n",
    "ratings2 = ratings.drop(columns=['tempo','user']).copy()\n",
    "\n",
    "selec = ratings2['movieId'].isin(filmes_pop)\n",
    "ratings2 = ratings2[selec].copy()\n",
    "\n",
    "# Agrupando por filme\n",
    "grupo_ratings = ratings2.groupby('movieId')\n",
    "\n",
    "# Calculando std\n",
    "std_ratings = grupo_ratings.std()\n",
    "\n",
    "# Renomeando coluna\n",
    "std_ratings.columns = ['std_rating']\n",
    "\n",
    "# Adicionando ao DataFrame \n",
    "df_pop3 = pd.concat([df_pop2, std_ratings], axis = 1)\n",
    "\n",
    "# Buscando filmes  ################# EXPLORAR ########################\n",
    "df_pop3.query('rating_media > 4.0').sort_values('std_rating', ascending = True)"
   ]
  },
  {
   "cell_type": "markdown",
   "id": "87e86411-be18-4724-9e2e-0a858507054d",
   "metadata": {},
   "source": [
    "# Relações com ano"
   ]
  },
  {
   "cell_type": "markdown",
   "id": "62056a42-9891-4030-ba3b-f636eee08a49",
   "metadata": {},
   "source": [
    "Existe uma relação clara entre rating média e ano?"
   ]
  },
  {
   "cell_type": "code",
   "execution_count": null,
   "id": "25fb6ab9-81de-4e2a-8de0-fee06285083d",
   "metadata": {
    "tags": []
   },
   "outputs": [],
   "source": [
    "fig, ax = plt.subplots(figsize = (8,5))\n",
    "\n",
    "sns.histplot(data = df_pop3.query('rating_media >= 3.5'), x = 'ano', \n",
    "             bins = [ (1930 + 5*i) for i in range(20) ], \n",
    "             color = 'r', label = 'Maior que 3.5', \n",
    "             ax = ax )\n",
    "\n",
    "sns.histplot(data = df_pop3.query('rating_media < 3.5'), x = 'ano', \n",
    "             bins = [ (1930 + 5*i) for i in range(20) ], \n",
    "             color = 'b', label = 'Menor que 3.5' ,\n",
    "             ax = ax )\n",
    "\n",
    "plt.legend()"
   ]
  },
  {
   "cell_type": "markdown",
   "id": "2e58bc7d-2007-45ad-a360-b5e4b4fa57bc",
   "metadata": {},
   "source": [
    "Podemos observar primeiramente, que antes de "
   ]
  },
  {
   "cell_type": "code",
   "execution_count": null,
   "id": "f7cf895d-8e9e-46c3-b470-ae00edaac355",
   "metadata": {
    "jupyter": {
     "source_hidden": true
    },
    "tags": []
   },
   "outputs": [],
   "source": [
    "### rating MÉDIA x ANO\n",
    "sns.scatterplot(data = df_pop3, x = 'ano', y = 'rating_media') #,  hue = 'rating_media' )"
   ]
  },
  {
   "cell_type": "code",
   "execution_count": null,
   "id": "3d3c3dbc-158c-4dd7-afcc-0e689146f661",
   "metadata": {
    "tags": []
   },
   "outputs": [],
   "source": [
    "#pd.set_option('display.max_rows', None)"
   ]
  },
  {
   "cell_type": "code",
   "execution_count": null,
   "id": "80fba308-4db8-4a65-bb0f-4b404ede2c09",
   "metadata": {
    "jupyter": {
     "source_hidden": true
    },
    "tags": []
   },
   "outputs": [],
   "source": [
    "fig, ax = plt.subplots(figsize = (10,30))\n",
    "\n",
    "sns.barplot(y = df_pop3.groupby('ano')['rating_media'].mean().index, \n",
    "            x = df_pop3.groupby('ano')['rating_media'].mean().values, orient = 'h')\n",
    "\n",
    "df_pop3.groupby('ano')['rating_media'].mean().sort_values()"
   ]
  },
  {
   "cell_type": "code",
   "execution_count": null,
   "id": "0e196f88-e78b-492f-ba0b-b4b4d88d3d56",
   "metadata": {
    "tags": []
   },
   "outputs": [],
   "source": [
    "sns.scatterplot(data = df_pop3, x = 'ano', y = 'produto',  hue = 'rating_media' )"
   ]
  },
  {
   "cell_type": "code",
   "execution_count": null,
   "id": "6d10bf35-fc7e-4e11-9301-2788339d4aca",
   "metadata": {},
   "outputs": [],
   "source": [
    "ratings.query('movieId == 1276').sort_values('rating')['rating'].value_counts().sort_index()"
   ]
  },
  {
   "cell_type": "code",
   "execution_count": null,
   "id": "9008380e-c468-4db5-b667-cbd24ccfaa1e",
   "metadata": {},
   "outputs": [],
   "source": []
  },
  {
   "cell_type": "code",
   "execution_count": null,
   "id": "03e47ee9-217e-421f-adde-4bc499206cc7",
   "metadata": {},
   "outputs": [],
   "source": []
  },
  {
   "cell_type": "code",
   "execution_count": null,
   "id": "28f7df04-feaf-4ea3-ac4f-a602e30adb8c",
   "metadata": {},
   "outputs": [],
   "source": []
  },
  {
   "cell_type": "code",
   "execution_count": null,
   "id": "82e4f642-0778-465a-8b24-3528cd5d3928",
   "metadata": {
    "tags": []
   },
   "outputs": [],
   "source": [
    "## BUSCA FILMES\n",
    "\n",
    "filmes.query('movieId == 5888')"
   ]
  }
 ],
 "metadata": {
  "kernelspec": {
   "display_name": "Python 3 (ipykernel)",
   "language": "python",
   "name": "python3"
  },
  "language_info": {
   "codemirror_mode": {
    "name": "ipython",
    "version": 3
   },
   "file_extension": ".py",
   "mimetype": "text/x-python",
   "name": "python",
   "nbconvert_exporter": "python",
   "pygments_lexer": "ipython3",
   "version": "3.12.3"
  }
 },
 "nbformat": 4,
 "nbformat_minor": 5
}
