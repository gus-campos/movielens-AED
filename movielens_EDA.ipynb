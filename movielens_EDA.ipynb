{
 "cells": [
  {
   "cell_type": "markdown",
   "id": "b7cca992-4d60-49cd-8fd5-de77b50db6f5",
   "metadata": {},
   "source": [
    "# Avaliações de Filmes do MovieLens"
   ]
  },
  {
   "cell_type": "code",
   "execution_count": null,
   "id": "97e01bd6-8a3b-4a11-aa5e-77b4f203eb9f",
   "metadata": {
    "tags": []
   },
   "outputs": [],
   "source": [
    "# Importando bibliotecas\n",
    "import pandas as pd\n",
    "import seaborn as sns"
   ]
  },
  {
   "cell_type": "code",
   "execution_count": null,
   "id": "ceef864c-7664-432b-93f0-67d84bee5306",
   "metadata": {},
   "outputs": [],
   "source": [
    "data_root = \"Dados/ml-latest/\""
   ]
  },
  {
   "cell_type": "markdown",
   "id": "cc642d8d-212b-4e70-8542-ebe05e556988",
   "metadata": {},
   "source": [
    "## Formato dos dados"
   ]
  },
  {
   "cell_type": "code",
   "execution_count": null,
   "id": "9c91a07c-7605-4822-8106-72e7b5b9e9aa",
   "metadata": {
    "jupyter": {
     "source_hidden": true
    },
    "tags": []
   },
   "outputs": [],
   "source": [
    "# Relação entre id do filme e seu título\n",
    "movies = pd.read_csv(data_root + \"movies.csv\")\n",
    "\n",
    "# Conv para string\n",
    "movies['title'] = movies['title'].astype('string')\n",
    "\n",
    "# Removendo espaços nas extremidades\n",
    "movies['title'] = movies['title'].str.strip()\n",
    "\n",
    "# Função para buscar padrão de ano\n",
    "import re\n",
    "f = lambda title : True if (re.findall(r\"\\([0-9]{4}\\)$\", title)) else False\n",
    "\n",
    "# Separando filmes que têm ano no título\n",
    "selec = movies[\"title\"].map(f)\n",
    "movies = movies[selec]\n",
    "\n",
    "# Separando conteúdo em coluna título e ano\n",
    "movies[\"year\"] = movies[\"title\"].map(lambda title : title[-5:-1]).astype(int)\n",
    "movies[\"title\"] = movies[\"title\"].map(lambda title : title[:-6])\n",
    "\n",
    "# Mudando index\n",
    "movies = movies.set_index(\"movieId\")\n",
    "\n",
    "# Exibindo\n",
    "movies"
   ]
  },
  {
   "cell_type": "code",
   "execution_count": null,
   "id": "565eec56",
   "metadata": {
    "jupyter": {
     "source_hidden": true
    },
    "tags": []
   },
   "outputs": [],
   "source": [
    "# Lendo dados, renomeando colunas e exibindo primeiros itens\n",
    "ratings = pd.read_csv(data_root + \"ratings.csv\")\n",
    "ratings.columns = [\"user\", \"movieId\", \"rating\", \"time\"]\n",
    "ratings"
   ]
  },
  {
   "cell_type": "code",
   "execution_count": null,
   "id": "b3bef354-4a00-4974-8550-f974f570d38f",
   "metadata": {
    "jupyter": {
     "source_hidden": true
    },
    "tags": []
   },
   "outputs": [],
   "source": [
    "# Obtendo lista de todos os valores únicos de avaliação registrados\n",
    "aval_unique = list(ratings['rating'].unique())\n",
    "aval_unique.sort()"
   ]
  },
  {
   "cell_type": "code",
   "execution_count": null,
   "id": "1604829f",
   "metadata": {
    "jupyter": {
     "source_hidden": true
    },
    "tags": []
   },
   "outputs": [],
   "source": [
    "print(\"Os dados contém {} avaliações, cada qual com {} variáveis associadas.\".format(ratings.shape[0], ratings.shape[1]))\n",
    "\n",
    "print(\"\\nEssas variáveis são: identificação do usuário, identificação do filme, avaliação do filme pelo usuário, e registro do momento em que foi avaliado.\")\n",
    "\n",
    "print(\"\\nOs valores possíveis para se avaliar os filmes são:\\n\\n\", \", \".join([str(value) for value in aval_unique]) + \".\")"
   ]
  },
  {
   "cell_type": "markdown",
   "id": "2239a995-4eba-432d-ad94-e2ad464893ee",
   "metadata": {},
   "source": [
    "### Estatísticas gerais"
   ]
  },
  {
   "cell_type": "code",
   "execution_count": null,
   "id": "c72c88f6-36f5-4975-8fe8-0eb9e821a3db",
   "metadata": {
    "jupyter": {
     "source_hidden": true
    },
    "tags": []
   },
   "outputs": [],
   "source": [
    "print(\"A média de todas as avaliações, independente do filme, foi {:.2f}\".format(ratings[ 'rating'].mean()))\n",
    "print(\"E a mediana dos mesmos dados, foi\", ratings['rating'].median())"
   ]
  },
  {
   "cell_type": "markdown",
   "id": "00741568-9658-4afa-a4d5-4701d7438e2b",
   "metadata": {},
   "source": [
    "# Visualização da Frequência de cada Avaliação"
   ]
  },
  {
   "cell_type": "markdown",
   "id": "8dc88ec9-6f1d-462a-ac45-1ec24a61b794",
   "metadata": {},
   "source": [
    "Pela visualização, podemos notar, que 4.0 foi a nota mais frequentemente dada pelos usuários, e que em segundo lugar, está a avaliação 3.0. Observamos que poucas avaliações abaixo de 2.0 foram dadas. \n",
    "\n",
    "Olhando a relação das frequências relativa, vemos também que apesar de 5.0 ser a nota máxima que um filme pode receber, ela foi a 3ª avaliação mais frequente, correspondendo à 13.1% de todas as avaliações.\n",
    "\n",
    "Parece haver um preferência por notas inteiras. Vamos avaliar isso melhor a seguir."
   ]
  },
  {
   "cell_type": "code",
   "execution_count": null,
   "id": "a5370765",
   "metadata": {
    "tags": []
   },
   "outputs": [],
   "source": [
    "import seaborn as sns\n",
    "import matplotlib.pyplot as plt"
   ]
  },
  {
   "cell_type": "code",
   "execution_count": null,
   "id": "6eb2abd6",
   "metadata": {
    "jupyter": {
     "source_hidden": true
    },
    "tags": []
   },
   "outputs": [],
   "source": [
    "# Obtendo a frequência absoluta e plotando em um gráfico de barras\n",
    "abs_freq = ratings['rating'].value_counts()\n",
    "\n",
    "# Plotando\n",
    "fig, ax = plt.subplots()\n",
    "ax = sns.barplot(abs_freq, color = 'steelblue')\n",
    "\n",
    "# Nomes no gráfico\n",
    "ax.set_title(\"Frequência das ratings dadas pelos Usuários\", fontsize = 16)\n",
    "ax.set_xlabel('rating', fontsize = 13)\n",
    "ax.set_ylabel('Frequência', fontsize = 13)"
   ]
  },
  {
   "cell_type": "code",
   "execution_count": null,
   "id": "996b7f36-28f2-42e3-abf4-aab81eff002a",
   "metadata": {
    "jupyter": {
     "source_hidden": true
    },
    "tags": []
   },
   "outputs": [],
   "source": [
    "relat_freq = ratings['rating'].value_counts(normalize = True) * 100\n",
    "pd.DataFrame(relat_freq)"
   ]
  },
  {
   "cell_type": "code",
   "execution_count": null,
   "id": "66207474-a2e5-4e3f-b194-90ec352db312",
   "metadata": {
    "tags": []
   },
   "outputs": [],
   "source": [
    "print(\"A frequência de ratings menores que 2.0 é {:.2f} %\".format(sum(relat_freq[rating] for rating in [0.5, 1.0, 1.5])))"
   ]
  },
  {
   "cell_type": "markdown",
   "id": "4c6d4080-6722-4fda-9995-b0a1ae9db830",
   "metadata": {},
   "source": [
    "## Inteiras vs. Fracionárias"
   ]
  },
  {
   "cell_type": "code",
   "execution_count": null,
   "id": "f2b9a1ad-48a8-4969-a55b-7f066f364abd",
   "metadata": {
    "jupyter": {
     "source_hidden": true
    },
    "tags": []
   },
   "outputs": [],
   "source": [
    "# Figura e eixos\n",
    "fig, (ax1, ax2) = plt.subplots(1,2, figsize = (10,5))\n",
    "\n",
    "max_value = ratings.shape[0] / 3\n",
    "\n",
    "# Limites dos eixos\n",
    "ax1.set_ylim(0, max_value)\n",
    "ax2.set_ylim(0, max_value)\n",
    "\n",
    "# Plot inteiros\n",
    "sns.barplot(abs_freq, color = 'steelblue', order = [1.0, 2.0, 3.0, 4.0, 5.0], ax = ax1)\n",
    "\n",
    "# Plot fracionários\n",
    "sns.barplot(abs_freq, color = 'steelblue', order = [0.5, 1.5, 2.5, 3.5, 4.5], ax = ax2)\n",
    "\n",
    "# Títulos\n",
    "ax1.set_title(\"ratings Inteiras\", fontsize = 16)\n",
    "ax2.set_title(\"ratings Fracionárias\", fontsize = 16)"
   ]
  },
  {
   "cell_type": "markdown",
   "id": "d0be056b-4266-4923-a79c-114992c3a51b",
   "metadata": {},
   "source": [
    "Ao plotarmos lado a lado, na mesma escala, as frequências das ratings inteiras e fracionárias, vemos que as duas tem um comportamento muito semelhante. Porém, ao mesmo tempo, a frequência das ratings fracionárias parecem bem menores.\n",
    "\n",
    "Vamos calcular a frequência de uma em relação a outra:"
   ]
  },
  {
   "cell_type": "code",
   "execution_count": null,
   "id": "35e51825-8cc6-47dc-a9f1-de3f1e6ff7ba",
   "metadata": {
    "jupyter": {
     "source_hidden": true
    },
    "tags": []
   },
   "outputs": [],
   "source": [
    "relat_frac_freq = sum(relat_freq[rating] for rating in [0.5, 1.5, 2.5, 3.5, 4.5])\n",
    "relat_int_freq  = 100 - relat_frac_freq\n",
    "\n",
    "print(f\"A ratings fracionárias são {relat_frac_freq:.1f} % de todas as ratings, de forma que as ratings inteiras são {relat_int_freq / relat_frac_freq:.1f} vezes mais frequentes que as fracionárias.\")"
   ]
  },
  {
   "cell_type": "markdown",
   "id": "a4ff1fc1-b6d9-42a3-98f3-f033cdbeb32f",
   "metadata": {},
   "source": [
    "# Avaliações por filme"
   ]
  },
  {
   "cell_type": "markdown",
   "id": "d0ca2734-5e8d-435a-a3b2-f33f211dd41b",
   "metadata": {
    "tags": []
   },
   "source": [
    "## Múltiplas avaliações recebidas por um filme"
   ]
  },
  {
   "cell_type": "code",
   "execution_count": null,
   "id": "b06bc210-65ff-4662-a695-b1fb0be1126a",
   "metadata": {
    "jupyter": {
     "source_hidden": true
    },
    "tags": []
   },
   "outputs": [],
   "source": [
    "# Vizualização todas as avalizações dadas ao filme 1\n",
    "ratings.query(\"movieId==1\").head(7)"
   ]
  },
  {
   "cell_type": "markdown",
   "id": "aa19dd81-4df9-4570-89c0-01b6d559555e",
   "metadata": {},
   "source": [
    "# Média de cada filme"
   ]
  },
  {
   "cell_type": "markdown",
   "id": "7f4254c1-d8ba-4340-befb-739fe6febc4f",
   "metadata": {},
   "source": [
    "Calculamos aqui, a média das ratings de cada filme dos dados."
   ]
  },
  {
   "cell_type": "code",
   "execution_count": null,
   "id": "a9153467-336c-4405-ab56-e1ff23002843",
   "metadata": {
    "jupyter": {
     "source_hidden": true
    },
    "tags": []
   },
   "outputs": [],
   "source": [
    "# Agrupando os dados por filmes (todas as avaliações de cada filme em um grupo)\n",
    "movie_grouped_ratings = ratings.groupby(\"movieId\")"
   ]
  },
  {
   "cell_type": "code",
   "execution_count": null,
   "id": "01ea0abd-c93b-4b4a-a90e-216e0fef59c4",
   "metadata": {
    "jupyter": {
     "source_hidden": true
    },
    "tags": []
   },
   "outputs": [],
   "source": [
    "# Calculando a média de todos os filmes\n",
    "movies_means = movie_grouped_ratings.mean()['rating']\n",
    "pd.DataFrame(movies_means).head()"
   ]
  },
  {
   "cell_type": "markdown",
   "id": "c34d0a26-4b47-4698-bc87-080a046ec60b",
   "metadata": {
    "tags": []
   },
   "source": [
    "### Estatísticas dos dados"
   ]
  },
  {
   "cell_type": "code",
   "execution_count": null,
   "id": "9e3e4d7d-11ec-4885-aed2-48fe3603c812",
   "metadata": {
    "jupyter": {
     "source_hidden": true
    },
    "tags": []
   },
   "outputs": [],
   "source": [
    "pd.DataFrame(movies_means.describe()).round(2)"
   ]
  },
  {
   "cell_type": "markdown",
   "id": "2c7621da-aab8-4248-9260-ed5b1c743dfb",
   "metadata": {},
   "source": [
    "# Plotando os dados de média por filme"
   ]
  },
  {
   "cell_type": "markdown",
   "id": "22738ab1-159d-4568-b572-a511172ba34a",
   "metadata": {},
   "source": [
    "## Boxplot"
   ]
  },
  {
   "cell_type": "code",
   "execution_count": null,
   "id": "5f8a9461-1c18-4d15-aa41-83acbc018182",
   "metadata": {
    "jupyter": {
     "source_hidden": true
    },
    "tags": []
   },
   "outputs": [],
   "source": [
    "ax = sns.boxplot(x = movies_means, width = 0.5, whis=(0,100))\n",
    "ticks = [i*0.5 for i in range(11)]\n",
    "ax.set_xticks(ticks)\n",
    "ax.set_title(\"Distribuição das médias dos filmes\", fontsize = 16)\n",
    "ax.set_xlabel(\"Média dos filmes\")"
   ]
  },
  {
   "cell_type": "markdown",
   "id": "f442c48a-7ce5-4360-bc90-bcc85b579af9",
   "metadata": {},
   "source": [
    "### Conclusão boxplot"
   ]
  },
  {
   "cell_type": "markdown",
   "id": "125202a4-369f-4a60-96d8-6ade90434bff",
   "metadata": {},
   "source": [
    "Pela visualização de boxplot gerada sobre as médias de avaliações de filmes, podemos ver pela pequena distância entre o primeiro e terceiro quartil, que as ratings estão muito concentradas entre aproximadamente [XXX] 2.6 e [XXX] 3.5, enquanto os outros intervalos estão espalhados em intervalos maiores.\n",
    "\n",
    "Porém de toda forma, a distribuição ainda está um tanto deslocadas para a direita, o que indica uma assimetria à esquerda, de forma que os dados têm mais volume nos valores mais altos, e uma calma mais esticada à esquerda."
   ]
  },
  {
   "cell_type": "markdown",
   "id": "2f7c0369-cd4d-4942-9685-7aeef1df9fed",
   "metadata": {},
   "source": [
    "## Histograma"
   ]
  },
  {
   "cell_type": "markdown",
   "id": "e2cf4dc9-4a52-469e-944f-109321082606",
   "metadata": {},
   "source": [
    "Observamos que poucos filmes têm avaliações médias acima de 4.25, apesar de muitas avaliações 5.0 serem individualmente dadas. Vamos calcular quantos são:"
   ]
  },
  {
   "cell_type": "code",
   "execution_count": null,
   "id": "f67cf0bb-1e18-494d-a0ef-0a7274a8aacf",
   "metadata": {
    "jupyter": {
     "source_hidden": true
    },
    "tags": []
   },
   "outputs": [],
   "source": [
    "ax = sns.histplot(movies_means, bins = [0.25 + i*0.5 for i in range(10)])\n",
    "ticks = [0.5 + i*0.5 for i in range(9)]\n",
    "ax.set_xticks(ticks)\n",
    "ax.set_title(\"Distribuição  das notas médias dos filmes\", fontdict={\"fontsize\" : 15})\n",
    "ax.set_xlabel(\"Notas médias\")\n",
    "ax.set_ylabel(\"Contagem de avaliações\")"
   ]
  },
  {
   "cell_type": "code",
   "execution_count": null,
   "id": "42c12245-d4c7-486e-8731-1e22c9463166",
   "metadata": {
    "jupyter": {
     "source_hidden": true
    }
   },
   "outputs": [],
   "source": [
    "high_ratings_freq = (movies_means[movies_means > 4.0].shape[0] / movies_means.shape[0]) * 100\n",
    "\n",
    "print(\"A frequência de filmes com avaliação média maior que 4.25, é {:.2f} %\".format(high_ratings_freq))"
   ]
  },
  {
   "cell_type": "markdown",
   "id": "9d164db7-29f6-4ae1-9cfc-ac5daf5ab877",
   "metadata": {},
   "source": [
    "Vamos investigar isso mais a fundo:"
   ]
  },
  {
   "cell_type": "markdown",
   "id": "115ad63e-0533-4ced-bf01-ed584ee7a31f",
   "metadata": {},
   "source": [
    "## Filmes com maior frequencia relativa de avaliações altas"
   ]
  },
  {
   "cell_type": "markdown",
   "id": "595940bb-1ace-4332-a085-566af80ff56f",
   "metadata": {},
   "source": [
    "Se chamarmos de avaliações altas as avaliações de 5.0 e avaliarmos a taxa de avaliações altas sobre o total, podemos ver que são raros os casos de filmes minimamente conhecidos que tem a grande maioria das avalições altas. Ou seja, mesmo que um filme receba muitas avaliações altas, esse valor tende a se equilibrar com avaliações menores."
   ]
  },
  {
   "cell_type": "code",
   "execution_count": null,
   "id": "417b7067-1647-414f-849a-03bdb1e491e4",
   "metadata": {
    "jupyter": {
     "source_hidden": true
    },
    "tags": []
   },
   "outputs": [],
   "source": [
    "# Montando o dataframe\n",
    "df = pd.DataFrame()\n",
    "df.index = movies_means.index\n",
    "df['mean_rating'] = movies_means.round(2)\n",
    "\n",
    "df[\"vote_counts\"] = ratings.groupby(\"movieId\")[\"movieId\"].value_counts()\n",
    "high_ratings = ratings.query(\"rating >= 4.5\").groupby(\"movieId\")[\"movieId\"].value_counts()\n",
    "\n",
    "df[\"high_ratings_rate\"] = (high_ratings / df[\"vote_counts\"]).fillna(0)"
   ]
  },
  {
   "cell_type": "code",
   "execution_count": null,
   "id": "0671e341-5f4a-427f-a015-6f1b7e2f8ef6",
   "metadata": {
    "jupyter": {
     "source_hidden": true
    },
    "tags": []
   },
   "outputs": [],
   "source": [
    "# Inserindo no DataFrame\n",
    "min_vote_count = df[\"vote_counts\"].max() * 0.05\n",
    "df_pop = df.query(f\"vote_counts >= {min_vote_count}\").sort_values(\"high_ratings_rate\", ascending=False).copy()\n",
    "\n",
    "# Vizualização\n",
    "ax = sns.scatterplot(data=df_pop, x=\"vote_counts\", y=\"high_ratings_rate\", s=10)\n",
    "ax.set_title(\"Taxa de avaliações altas x Contagem de avaliações\", fontsize=16)\n",
    "\n",
    "ax.set_ylabel(\"Frequência relativa de notas altas\")\n",
    "ax.set_xlabel(\"Quantidade de votos\")"
   ]
  },
  {
   "cell_type": "markdown",
   "id": "dd3e8d13-50fd-4c7d-89c7-1c9baff12eea",
   "metadata": {},
   "source": [
    "## Scatterplot (Nota x Quantidade de avaliações)"
   ]
  },
  {
   "cell_type": "code",
   "execution_count": null,
   "id": "667bae2c-afaf-431b-9ac9-03e669301ba9",
   "metadata": {
    "jupyter": {
     "source_hidden": true
    },
    "tags": []
   },
   "outputs": [],
   "source": [
    "# Gráfico\n",
    "fig, ax = plt.subplots(figsize = (8,5))\n",
    "sns.scatterplot(data = df.query(f\"vote_counts >= {min_vote_count}\"), x = 'mean_rating', y = 'vote_counts', size = 1, ax = ax)\n",
    "\n",
    "# Nomes no gráfico\n",
    "ax.set_title(\"Relação entre Número de Votos e Nota para um filme\", fontsize = 16)\n",
    "ax.set_xlabel(\"Nota\", fontsize = 13)\n",
    "ax.set_ylabel(\"Quantidade de Votos\", fontsize = 13)"
   ]
  },
  {
   "cell_type": "markdown",
   "id": "9b5e1631-dfa7-4ea2-9811-f392314a1290",
   "metadata": {
    "tags": []
   },
   "source": [
    "### Filmes que têm grande quantidade de votos, tendem a ter notas mais altas\n",
    "\n",
    "Observamos, que quanto maior a quantidade de votos um filme tem, é mais comum que o filme seja bem avaliado. Isso provavelmente vem do fato, que filmes de alta qualidade, tendem a se tornar mais populares, de forma que mais pessoas os assistam e os avaliem. Em outras palavras, é improvável que um filme que é amplamente considerado \"ruim\", atraia  um grande público."
   ]
  },
  {
   "cell_type": "markdown",
   "id": "839a9f84-8132-424e-aab2-1253026e420d",
   "metadata": {},
   "source": [
    "## Filmes perto do vértice - Os filmes mais aclamados"
   ]
  },
  {
   "cell_type": "markdown",
   "id": "ac9adfa5-4134-40d7-a22a-f45674ba82d3",
   "metadata": {},
   "source": [
    "Vamos procurar os filmes próximos do vértice desse \"triângulo\", ao calcular a distância do ponto à origem. Os filmes onde essa distância é maior, tendem a ser os filmes no vértice. Esses filmes supostamente seriam filmes amplamente considerados bons, e possivelmente \"clássicos\", já que foram avaliados por muitas pessoas, e mantêm uma nota muito alta."
   ]
  },
  {
   "cell_type": "markdown",
   "id": "d4cdde7c-fe6b-4c7a-9272-03324b6e01ff",
   "metadata": {},
   "source": [
    "### Os melhores filmes?"
   ]
  },
  {
   "cell_type": "markdown",
   "id": "ca04bf79-e3ea-4ea9-96b2-9eb7e71a54b8",
   "metadata": {},
   "source": [
    "De fato, podemos observar facilmente vários casos de filmes que receberam grande aclamação e que são bem conhecidos."
   ]
  },
  {
   "cell_type": "code",
   "execution_count": null,
   "id": "c9709643-6b79-4ef5-a7f0-beaa7e4ae712",
   "metadata": {
    "jupyter": {
     "source_hidden": true
    },
    "tags": []
   },
   "outputs": [],
   "source": [
    "# Adicionando nome e ano \n",
    "df_pop_title = pd.concat([df,  movies], axis = 1).query(f\"vote_counts > {min_vote_count}\")\n",
    "\n",
    "# Coluna de produto (num de votos * rating média)\n",
    "df_pop_title_norm = df_pop_title.copy()\n",
    "df_pop_title_norm[\"adj\"] = 100 * df_pop_title_norm['vote_counts'] / df_pop_title_norm['vote_counts'].max()\n",
    "df_pop_title_norm[\"opos\"] = 100 * df_pop_title_norm['mean_rating'] / df_pop_title_norm['mean_rating'].max()\n",
    "\n",
    "df_pop_title_norm['norm'] = ((df_pop_title_norm[\"adj\"]**2 + df_pop_title_norm[\"opos\"]**2)**(1/2)).round(1)\n",
    "\n",
    "# Exibir ordenando pelo produto\n",
    "df_pop_title_norm.sort_values('norm', ascending = False)[[\"title\", \"mean_rating\", \"norm\"]].head(10)"
   ]
  },
  {
   "cell_type": "markdown",
   "id": "3e0bdab6-e84a-419e-a238-f7d5db119a43",
   "metadata": {},
   "source": [
    "## Limite de nota com mais de X votos"
   ]
  },
  {
   "cell_type": "code",
   "execution_count": null,
   "id": "577e4cbb-1316-406d-b27e-4f77acefad09",
   "metadata": {
    "tags": []
   },
   "outputs": [],
   "source": [
    "df_pop_title.query(f\"vote_counts > {min_vote_count}\").sort_values(\"mean_rating\", ascending=False).head(10)[[\"title\", \"mean_rating\", \"vote_counts\"]]"
   ]
  },
  {
   "cell_type": "code",
   "execution_count": null,
   "id": "e9c48496-c679-42d3-b4e6-e00d28b3a929",
   "metadata": {},
   "outputs": [],
   "source": [
    "print(\"Podemos observar que de fato, como indica o comportamento em forma de 'triângulo' acima, nenhum filme\")\n",
    "print(\"suficientemente conhecido e votado, chega a notas muito altas.\")\n",
    "print(f\"Por exemplo, nenhum filme com mais de {int(min_vote_count)} votos conseguiu ultrapassar a nota de {round(df_pop_title['mean_rating'].max(), 2)}\")"
   ]
  },
  {
   "cell_type": "markdown",
   "id": "987ba292-3eba-460e-be79-76f7f67a5f73",
   "metadata": {},
   "source": [
    "Isso provelmente vem do fato, de que um filme não muito popular, pode atingir um nicho de pessoas particularmente interessadas naquele tipo de filme, e a maioria delas avaliar muito bem o filme, mas ao atingir um público razoável, é muito difícil que o filme vá agradar a todos, impedindo assim, que um filme popular, atinja notas muito altas."
   ]
  },
  {
   "cell_type": "markdown",
   "id": "5cd15faa-19cc-4999-8f82-6ee9a7ece213",
   "metadata": {},
   "source": [
    "## Dispersão de ratings por Filmes"
   ]
  },
  {
   "cell_type": "code",
   "execution_count": null,
   "id": "80067619-f139-4cb8-96b3-42fb6a3cf039",
   "metadata": {
    "jupyter": {
     "source_hidden": true
    }
   },
   "outputs": [],
   "source": [
    "pop_movies = df.query(f\"vote_counts >= {min_vote_count}\").index\n",
    "selec = df.index.isin(pop_movies)\n",
    "\n",
    "# Desvio padrão das avaliações\n",
    "deviation = ratings.groupby(\"movieId\")[\"rating\"].std()[selec].round(3)\n",
    "deviation.name = \"rating_std\"\n",
    "\n",
    "# Juntando dados\n",
    "df_pop_title_std = pd.concat([df_pop_title, deviation], axis=1)[[\"title\", \"mean_rating\", \"rating_std\"]]"
   ]
  },
  {
   "cell_type": "markdown",
   "id": "92ff4023-2a7c-4585-ae83-6cc718b85d54",
   "metadata": {},
   "source": [
    "### Qual a melhor sugestão de filme a se fazer?\n",
    "\n",
    "Aqui estão os filmes com nota maior que 4.0, ordenadas pelas menores variações nas votações."
   ]
  },
  {
   "cell_type": "code",
   "execution_count": null,
   "id": "cb328625-e156-4b65-abc5-f2f2d4d655c5",
   "metadata": {
    "jupyter": {
     "source_hidden": true
    }
   },
   "outputs": [],
   "source": [
    "df_pop_title_std_copy = df_pop_title_std.copy()\n",
    "df_pop_title_std_copy[\"mean_rating\"] = df_pop_title_std_copy[\"mean_rating\"].round(1)\n",
    "df_pop_title_std_copy[\"rating_std\"] = df_pop_title_std_copy[\"rating_std\"].round(2)\n",
    "\n",
    "pd.set_option('display.max_rows', None)\n",
    "\n",
    "df_pop_title_std_copy.sort_values([\"mean_rating\", \"rating_std\"], ascending=[False, True]).head(10)"
   ]
  },
  {
   "cell_type": "markdown",
   "id": "9cbe62f2-77b8-4b4a-adfe-b51a5adbc185",
   "metadata": {},
   "source": [
    "### Mesma nota, diferentes recepções por parte do público"
   ]
  },
  {
   "cell_type": "markdown",
   "id": "f54c17d5-618d-4a68-96a0-47b420845f0a",
   "metadata": {},
   "source": [
    "Abaixo podemos observar dois filmes com notas muito próximas, mas que tiveram recepções um tanto diferentes. Em Senhor dos Anéis a porcentagem de pessoas que acharam o filme ótimo, foi maior que a porcentagem de pessoas que acharam apenas bom, enquanto em \"Pacto Sinistro\", o inverso acontece. De alguma forma essas duas variações se compensam e resultam numa nota média igual, porém os dados completos representam um recepção muito diferente. Visto isso, é muito mais seguro indicar o primeiro do que o segundo filme."
   ]
  },
  {
   "cell_type": "code",
   "execution_count": null,
   "id": "f1a71c06-96f4-4b76-b329-c5adac7c2d4a",
   "metadata": {
    "jupyter": {
     "source_hidden": true
    }
   },
   "outputs": [],
   "source": [
    "f0 = 7153\n",
    "f1 = 2186\n",
    "\n",
    "plt.rcParams[\"figure.figsize\"] = (16,4)\n",
    "plt.rcParams['figure.dpi'] = 100  \n",
    "\n",
    "figure, axs = plt.subplots(1, 2) \n",
    "plt.subplots_adjust(left=None, bottom=None, right=None, top=None, wspace=0.3, hspace=0.3)\n",
    "\n",
    "movie_ratings0 = ratings[ratings[\"movieId\"] == f0][\"rating\"]\n",
    "movie_ratings1 = ratings[ratings[\"movieId\"] == f1][\"rating\"]\n",
    "\n",
    "bins1 = [0.25+i*0.5 for i in range(11)]\n",
    "bins2 = [0.5+i*1.0 for i in range(6)]\n",
    "\n",
    "sns.histplot(data=movie_ratings0, bins=bins2, ax=axs[0], stat=\"proportion\")\n",
    "axs[0].set_title(f'Votações de \"{df_pop_title_std.loc[f0][\"title\"]}\" \\n\\n Nota: {df_pop_title_std.loc[f0][\"mean_rating\"]} - Disperção: {df_pop_title_std.loc[f0][\"rating_std\"]}')\n",
    "\n",
    "sns.histplot(data=movie_ratings1, bins=bins2, ax=axs[1], stat=\"proportion\")\n",
    "axs[1].set_title(f'Votações de \"{df_pop_title_std.loc[f1][\"title\"]}\" \\n\\n Nota: {df_pop_title_std.loc[f1][\"mean_rating\"]} - Disperção: {df_pop_title_std.loc[f1][\"rating_std\"]}')\n",
    "\n",
    "axs[0].set_ylabel(\"Frequência relativa\")\n",
    "axs[1].set_ylabel(\"Frequência relativa\")\n",
    "axs[0].set_xlabel(\"Faixa de avaliação\")\n",
    "axs[1].set_xlabel(\"Faixa de avaliação\")"
   ]
  },
  {
   "cell_type": "markdown",
   "id": "17b7dbb2-f5ab-4445-a27d-80cc95608d09",
   "metadata": {},
   "source": [
    "## Filmes que dividem opinião"
   ]
  },
  {
   "cell_type": "markdown",
   "id": "2fe431cb-7288-4ff4-9e57-675dd74e7441",
   "metadata": {},
   "source": [
    "Alguns filmes não levam o público a um concenso geral. Como é o exemplo de \"Crepúsculo\", de nota 2.4, e \"O Vento Levou\" de nota 3.8. Neste último caso, apesar de haver uma tendência maior que de Crespúsculo, podemos observar que uma grande porção considerou o filme ótimo, mas um grande porção também considerou o filme \"Ok\"."
   ]
  },
  {
   "cell_type": "code",
   "execution_count": null,
   "id": "f395267e-148a-4324-b31e-81b341792de8",
   "metadata": {
    "jupyter": {
     "source_hidden": true
    }
   },
   "outputs": [],
   "source": [
    "f0 = 63992 # Twilight\n",
    "f1 = 920 # West Side Story\n",
    "\n",
    "plt.rcParams[\"figure.figsize\"] = (16,4)\n",
    "plt.rcParams['figure.dpi'] = 100  \n",
    "\n",
    "figure, axs = plt.subplots(1, 3) \n",
    "plt.subplots_adjust(left=None, bottom=None, right=None, top=None, wspace=0.3, hspace=0.3)\n",
    "\n",
    "movie_ratings0 = ratings[ratings[\"movieId\"] == f0][\"rating\"]\n",
    "movie_ratings1 = ratings[ratings[\"movieId\"] == f1][\"rating\"]\n",
    "\n",
    "bins1 = [0.25+i*0.5 for i in range(11)]\n",
    "bins2 = [0.5+i*1.0 for i in range(6)]\n",
    "\n",
    "sns.histplot(data=movie_ratings0, bins=bins2, ax=axs[0], stat=\"proportion\")\n",
    "axs[0].set_title(f'Votações de \"{df_pop_title_std.loc[f0][\"title\"]}\" \\n\\n Nota: {df_pop_title_std.loc[f0][\"mean_rating\"]} - Disperção: {df_pop_title_std.loc[f0][\"rating_std\"]}')\n",
    "\n",
    "sns.histplot(data=movie_ratings1, bins=bins2, ax=axs[1], stat=\"proportion\")\n",
    "axs[1].set_title(f'Votações de \"{df_pop_title_std.loc[f1][\"title\"]}\" \\n\\n Nota: {df_pop_title_std.loc[f1][\"mean_rating\"]} - Disperção: {df_pop_title_std.loc[f1][\"rating_std\"]}')\n",
    "\n",
    "plt.rcParams[\"figure.figsize\"] = (8,4)\n",
    "plt.rcParams['figure.dpi'] = 100  \n",
    "\n",
    "import random\n",
    "random.seed(16)\n",
    "values = []\n",
    "population = [0.5 + i*0.5 for i in range(10)]\n",
    "for i in range(100):\n",
    "\n",
    "    values.append(random.choice(population))\n",
    "\n",
    "sns.histplot(data=pd.Series(values), bins=bins2, ax=axs[2], stat=\"count\")\n",
    "axs[2].set_title(\"Distribuição aleatória de votações\")\n",
    "\n",
    "axs[0].set_ylabel(\"Frequência relativa\")\n",
    "axs[1].set_ylabel(\"Frequência relativa\")\n",
    "axs[2].set_ylabel(\"Frequência relativa\")\n",
    "axs[0].set_xlabel(\"Faixa de avaliação\")\n",
    "axs[1].set_xlabel(\"Faixa de avaliação\")\n",
    "axs[2].set_xlabel(\"Faixa de avaliação\")"
   ]
  },
  {
   "cell_type": "markdown",
   "id": "7ae9b734-c797-48ab-b5de-4b25e3b02f96",
   "metadata": {},
   "source": [
    "As notas do público sobre Crepúsculo são tão dispersas, que chegam a lembrar uma distribuição aleatória."
   ]
  },
  {
   "cell_type": "markdown",
   "id": "87e86411-be18-4724-9e2e-0a858507054d",
   "metadata": {},
   "source": [
    "# Relações com ano"
   ]
  },
  {
   "cell_type": "markdown",
   "id": "62056a42-9891-4030-ba3b-f636eee08a49",
   "metadata": {},
   "source": [
    "Existe uma relação clara entre rating média e ano?"
   ]
  },
  {
   "cell_type": "code",
   "execution_count": null,
   "id": "cb4eec48-eef6-4cbf-860e-401947c075fd",
   "metadata": {
    "jupyter": {
     "source_hidden": true
    },
    "tags": []
   },
   "outputs": [],
   "source": [
    "pd.set_option('display.max_rows', 30)\n",
    "\n",
    "# Convertendo tipo da coluna ano\n",
    "df_title = pd.concat([df, movies], axis=1).dropna()\n",
    "df_title[\"year\"] = df_title[\"year\"].astype(int)\n",
    "df_pop_title[\"year\"] = df_pop_title[\"year\"].astype(int)"
   ]
  },
  {
   "cell_type": "markdown",
   "id": "f40fdb20-f29e-4fa5-a272-85edd809acdc",
   "metadata": {},
   "source": [
    "#### Avaliação de filmes ao longo do tempo"
   ]
  },
  {
   "cell_type": "code",
   "execution_count": null,
   "id": "9c43d238-97cc-4b84-98c4-7e32f531a9e8",
   "metadata": {
    "jupyter": {
     "source_hidden": true
    },
    "tags": []
   },
   "outputs": [],
   "source": [
    "fig, ax = plt.subplots(figsize = (12,4))\n",
    "\n",
    "decades = {}\n",
    "bins = [1930 + 5*i for i in range(19)]\n",
    "for i in range(18):\n",
    "\n",
    "    decades[bins[i]] = df_title.query(f'year >= {bins[i]} & year < {bins[i+1]}')[\"mean_rating\"].mean()\n",
    "\n",
    "sns.barplot(decades)\n",
    "ax.set_ylim(2.7,3.2)\n",
    "ax.set_title(\"Média de notas de filmes populares por quinquênio\", fontdict={\"fontsize\" : 15})\n",
    "\n",
    "plt.xlabel(\"Ano de lançamento\")\n",
    "plt.ylabel(\"Avaliação média dos filmes\")"
   ]
  },
  {
   "cell_type": "markdown",
   "id": "b2fffb63-b657-4a3a-8a78-0cca56178cfe",
   "metadata": {},
   "source": [
    "#### Filmes bem avalaidos vs. filmes mal avaliados, por quinquênio"
   ]
  },
  {
   "cell_type": "markdown",
   "id": "63fd511d-a6b8-45f0-8e0e-cd50ce13e675",
   "metadata": {},
   "source": [
    "Podemos observar no gráfico abaixo, onde o valor sobre as barras representa a razão de filmes bem valaidos no total daquele quinquênio, que a quantidade relativa de filmes bem avalaidos não varia muito ao longo do tempo."
   ]
  },
  {
   "cell_type": "code",
   "execution_count": null,
   "id": "20b38279-262e-4a65-b7a8-e6b5b8f53675",
   "metadata": {
    "jupyter": {
     "source_hidden": true
    }
   },
   "outputs": [],
   "source": [
    "fig, ax = plt.subplots(figsize = (12,5))\n",
    "\n",
    "bins = [1930 + 5*i for i in range(19)]\n",
    "\n",
    "sns.histplot(data = df_title.query('mean_rating < 3.5'), x = 'year', \n",
    "             bins = bins, color = 'red', alpha = 0.8, label = 'Menor que 3.5')\n",
    "\n",
    "sns.histplot(data = df_title.query('mean_rating >= 3.5'), x = 'year', \n",
    "             bins = bins, color = 'blue', alpha = 0.8, label = 'Maior que 3.5')\n",
    "\n",
    "# Listando a frequência relativa de filmes bem avalaidos\n",
    "taxas = []\n",
    "for i in range(18):\n",
    "\n",
    "    temp = df_title.query(f'year >= {bins[i]} & year < {bins[i+1]}')\n",
    "    taxas.append(\"{:.0f}%\".format(100 * temp.query('mean_rating >= 3.5').shape[0] / temp.shape[0], 2))\n",
    "\n",
    "# Incluindo no plot\n",
    "rects = ax.patches\n",
    "\n",
    "for rect, taxa in zip(rects, taxas):\n",
    "    height = rect.get_height()\n",
    "    ax.text(\n",
    "        rect.get_x() + rect.get_width() / 2, height + 5, taxa, ha=\"center\", va=\"bottom\"\n",
    "    )\n",
    "\n",
    "# Título\n",
    "ax.set_title(\"Filmes bem avaliados vs. filmes mal avaliados, por quinquênio\", fontdict={\"fontsize\" : 16})\n",
    "plt.legend()\n",
    "\n",
    "plt.xlabel(\"Ano de lançamento\")\n",
    "plt.ylabel(\"Quantidade de filmes\")"
   ]
  },
  {
   "cell_type": "markdown",
   "id": "54ca2fb5-1bea-445e-ba4b-f858dfb17c7c",
   "metadata": {},
   "source": [
    "## Conclusão\n",
    "\n",
    "Através desta análise exploratória, pudemos conhecer melhor o conjunto de dados trabalhados, ao:\n",
    "* reconhecer os dados registrados para cada avaliação dada,\n",
    "* reconhecer os dados associados a cada filme, \n",
    "* concluir a aparente preferência por notas inteiras do usuário,\n",
    "* anaisar a distribuição de notas médias dos filmes,\n",
    "* constatar a relação de popularidade do filme e o teto de nota que ele chega a receber, bem como o teto de popularidade de um filme mal avaliado;\n",
    "* criar uma métrica da aclamação de um filme, e listar os \"melhores filmes\" segundo ela;\n",
    "\n",
    "Avaliamos também quais filmes seriam sugestões mais seguras, por apresentarem menores dispersões de votos, e na direção oposta, analisamos quais são os filmes mais \"polêmicos\", e dividem mais opnião sobre a avaliação. Para terminar, avaliamos a qualidade da produção de filmes ao decorrer do anos, e chegamos a conclusão, que apesar os dados, apesar de contrariar muitas opiniões, mostra que a qualidade da produção cinematográfica é quase contante ao longo das décadas."
   ]
  }
 ],
 "metadata": {
  "kernelspec": {
   "display_name": "Python 3 (ipykernel)",
   "language": "python",
   "name": "python3"
  },
  "language_info": {
   "codemirror_mode": {
    "name": "ipython",
    "version": 3
   },
   "file_extension": ".py",
   "mimetype": "text/x-python",
   "name": "python",
   "nbconvert_exporter": "python",
   "pygments_lexer": "ipython3",
   "version": "3.10.14"
  }
 },
 "nbformat": 4,
 "nbformat_minor": 5
}
